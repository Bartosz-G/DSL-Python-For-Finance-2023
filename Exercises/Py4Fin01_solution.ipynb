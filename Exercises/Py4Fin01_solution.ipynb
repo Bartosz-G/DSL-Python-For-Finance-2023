{
 "cells": [
  {
   "cell_type": "markdown",
   "metadata": {
    "pycharm": {
     "name": "#%% md\n"
    }
   },
   "source": [
    "# Python for Finance - Part 1\n",
    "\n",
    "&nbsp;\n",
    "\n",
    "Part 1 of the workshop will teach you how to retrieve, visualize and work with share price data using Python."
   ]
  },
  {
   "cell_type": "markdown",
   "metadata": {
    "pycharm": {
     "name": "#%% md\n"
    }
   },
   "source": [
    "<b>After having completed this part, you will be able to:</b>\n",
    "\n",
    "- Downloading financial/stock data from yahoo finance\n",
    "- Using matplotlib to plot stock data with line plots\n",
    "- Customizing lines and plots\n",
    "- Combining multiple stock data series in a line plot\n",
    "- Calculating daily, monthly and annual returns"
   ]
  },
  {
   "cell_type": "markdown",
   "metadata": {
    "pycharm": {
     "name": "#%% md\n"
    }
   },
   "source": [
    "<b>What to do when getting stuck</b>:\n",
    "    <ol>\n",
    "        <li>Search online:</li>\n",
    "        <ol>\n",
    "            <li>The answer box on the top of Google's results page</li>\n",
    "            <li><a href=\"https://www.stackoverflow.com\">stackoverflow.com</a> (task-specific solutions)</li>\n",
    "            <li><a href=\"https://www.w3schools.com\">w3schools.com</a> (basic python questions)</li>\n",
    "            <li><a href=\"https://www.realpython.com\">realpython.com</a> (topic-based tutorials)</li>\n",
    "        </ol>\n",
    "        <li>Ask the trainer if you struggle to find a solution.</li>\n",
    "    </ol>\n",
    "\n",
    "&nbsp;\n"
   ]
  },
  {
   "cell_type": "markdown",
   "metadata": {
    "pycharm": {
     "name": "#%% md\n"
    }
   },
   "source": [
    "<img src=\"https://upload.wikimedia.org/wikipedia/commons/thumb/6/6b/Microcosm_of_London_Plate_075_-_New_Stock_Exchange_%28tone%29.jpg/640px-Microcosm_of_London_Plate_075_-_New_Stock_Exchange_%28tone%29.jpg\" width=\"400px\" align=\"left\">"
   ]
  },
  {
   "cell_type": "markdown",
   "metadata": {
    "pycharm": {
     "name": "#%% md\n"
    }
   },
   "source": [
    "London Stock Exchange in 1810"
   ]
  },
  {
   "cell_type": "markdown",
   "metadata": {
    "pycharm": {
     "name": "#%% md\n"
    }
   },
   "source": [
    "---"
   ]
  },
  {
   "cell_type": "markdown",
   "metadata": {
    "pycharm": {
     "name": "#%% md\n"
    }
   },
   "source": [
    "## Using Python for Finance\n",
    "\n",
    "Python is one of the most popular programming languages for data analysis/data science and is also the most popular programming language in fintech. Python is extremely versatile and although it might not be the language of choice for every purpose it certainly can be used for almost anything. Another great feature about Python is that it is very easy to learn and that you can find blogs, tutorials, forum posts or video tutorials on almost any topic. \n",
    "\n",
    "Here are some examples of how Python can be used to work with finance data:\n",
    "- transform and prepare data for statistical analysis\n",
    "- explore data through summary statistics and visualizations\n",
    "- run statistical and machine learning models to make predictions and generate insights from data\n",
    "- scrape data from websites\n",
    "- create interactive charts\n",
    "- build web applications\n",
    "\n",
    "This course will teach you how to apply Python to carry out finance specific tasks, such as retrieving stock market data through an API, plotting share prices, working returns and rolling statistics, and doing portfolio optimization using monte carlo simulation."
   ]
  },
  {
   "cell_type": "markdown",
   "metadata": {
    "pycharm": {
     "name": "#%% md\n"
    }
   },
   "source": [
    "## Anaconda and Anaconda Navigator\n",
    "\n",
    "Anaconda is a Python distribution for data science that together with Anaconda Navigator, a graphical user interface for a range of applications\n",
    "aims to provide a user-friendly working environment for beginners and experienced users. With Anaconda, you get base Python, the most important data science libraries and applications to write and run Python scripts with one installer, which simplifies the installation process tremendously.\n",
    "\n",
    "Anaconda is great for beginners since a wide range of data science libraries are already preinstalled and it makes it easy to install additional libraries and manage environments with conda, which is the package manager of the Anaconda distribution. Here is a [conda cheatsheet](https://docs.conda.io/projects/conda/en/4.6.0/_downloads/52a95608c49671267e40c689e0bc00ca/conda-cheatsheet.pdf) with the most important commands to install and manage libraries and environments.\n",
    "\n",
    "In addition, Anaconda Navigator offers a GUI to choose from a number of popular applications to write Python code, such as jupyter notebook, Spyder and VS Code.\n",
    "\n"
   ]
  },
  {
   "cell_type": "markdown",
   "metadata": {
    "pycharm": {
     "name": "#%% md\n"
    }
   },
   "source": [
    "## Installing pandas-datareader\n",
    "\n",
    "The Anaconda distribution contains many of the most important libraries used for data science. The yahoofinance library however, which we will use to download stock price data from yahoo finance, is not part of it yet and has to be installed by the user. We use the `conda install` command to install the library. Following the name of the library we use `-c conda-forge` to download the packages from the conda-forge channel."
   ]
  },
  {
   "cell_type": "code",
   "execution_count": 111,
   "metadata": {
    "pycharm": {
     "name": "#%%\n"
    }
   },
   "outputs": [],
   "source": [
    "conda install -c conda-forge yfinance"
   ]
  },
  {
   "cell_type": "markdown",
   "metadata": {
    "pycharm": {
     "name": "#%% md\n"
    }
   },
   "source": [
    "\n",
    "\n",
    "The Anaconda repository is a Python library storage system that hosts several thousand libraries. The Anaconda repository is organized into a multitude of channels, the most commonly used being conda and conda-forge, which are managed by the Anaconda and condas-forge team respectively. The conda repository is the default channel which hosts the most commonly used libraries. Conda-forge stores libraries that are not yet part of the official Anaconda distribution. Although it probably won't make much of a difference whether you use conda or conda-forge, there are two reasons for why you might want to prefer conda-forge. Libraries on conda-forge are likely to be more up to date and you are also more likely to find a library on conda-forge.\n",
    "\n",
    "&nbsp;\n",
    "\n",
    "&nbsp;\n"
   ]
  },
  {
   "cell_type": "markdown",
   "metadata": {
    "pycharm": {
     "name": "#%% md\n"
    }
   },
   "source": [
    "## Task 1 - Installing pandas-datareader\n",
    "\n",
    "1. Use the commands from above to install yahoofinance library.\n",
    "2. Once the library has been installed run the `conda list` command to verify the installation. It should display the name, version, build and channel."
   ]
  },
  {
   "cell_type": "code",
   "execution_count": 112,
   "metadata": {
    "pycharm": {
     "name": "#%%\n"
    }
   },
   "outputs": [],
   "source": [
    "conda list yfinance"
   ]
  },
  {
   "cell_type": "markdown",
   "metadata": {
    "pycharm": {
     "name": "#%% md\n"
    }
   },
   "source": [
    "&nbsp;\n",
    "\n",
    "&nbsp;"
   ]
  },
  {
   "cell_type": "markdown",
   "metadata": {
    "pycharm": {
     "name": "#%% md\n"
    }
   },
   "source": [
    "\n",
    "## Downloading financial data from yahoo finance"
   ]
  },
  {
   "cell_type": "markdown",
   "metadata": {
    "pycharm": {
     "name": "#%% md\n"
    }
   },
   "source": [
    "<img src=\"https://upload.wikimedia.org/wikipedia/commons/thumb/c/c5/Bitcoin_logo.svg/1920px-Bitcoin_logo.svg.png\" width=\"200px\" align=\"left\">"
   ]
  },
  {
   "cell_type": "markdown",
   "metadata": {
    "pycharm": {
     "name": "#%% md\n"
    }
   },
   "source": [
    "To download stock data from yahoo finance we will use the pandas_datareader in combination with yahoofinance library. In particular, we will use the `get_data_yahoo()` function which is located in the `pandas_datareader.data` module.\n",
    "\n",
    "We will only use the pandas_datareader library to download data from yahoo finance, but the library offers many other sources to retrieve financial data from. Have a look at the [documentation](https://pandas-datareader.readthedocs.io/en/latest/remote_data.html) if you are interested to find out more.\n",
    "\n",
    "For this example, we are going to download the **Bitcoin to GBP rate**. There are more detailed explanations on the code below."
   ]
  },
  {
   "cell_type": "code",
   "execution_count": 1,
   "metadata": {
    "pycharm": {
     "is_executing": true,
     "name": "#%%\n"
    }
   },
   "outputs": [
    {
     "name": "stdout",
     "output_type": "stream",
     "text": [
      "[*********************100%***********************]  1 of 1 completed\n"
     ]
    },
    {
     "data": {
      "text/html": [
       "<div>\n",
       "<style scoped>\n",
       "    .dataframe tbody tr th:only-of-type {\n",
       "        vertical-align: middle;\n",
       "    }\n",
       "\n",
       "    .dataframe tbody tr th {\n",
       "        vertical-align: top;\n",
       "    }\n",
       "\n",
       "    .dataframe thead th {\n",
       "        text-align: right;\n",
       "    }\n",
       "</style>\n",
       "<table border=\"1\" class=\"dataframe\">\n",
       "  <thead>\n",
       "    <tr style=\"text-align: right;\">\n",
       "      <th></th>\n",
       "      <th>Open</th>\n",
       "      <th>High</th>\n",
       "      <th>Low</th>\n",
       "      <th>Close</th>\n",
       "      <th>Adj Close</th>\n",
       "      <th>Volume</th>\n",
       "    </tr>\n",
       "    <tr>\n",
       "      <th>Date</th>\n",
       "      <th></th>\n",
       "      <th></th>\n",
       "      <th></th>\n",
       "      <th></th>\n",
       "      <th></th>\n",
       "      <th></th>\n",
       "    </tr>\n",
       "  </thead>\n",
       "  <tbody>\n",
       "    <tr>\n",
       "      <th>2020-01-01 00:00:00+00:00</th>\n",
       "      <td>5425.667969</td>\n",
       "      <td>5472.485840</td>\n",
       "      <td>5407.095215</td>\n",
       "      <td>5433.849121</td>\n",
       "      <td>5433.849121</td>\n",
       "      <td>14011191757</td>\n",
       "    </tr>\n",
       "    <tr>\n",
       "      <th>2020-01-02 00:00:00+00:00</th>\n",
       "      <td>5435.643066</td>\n",
       "      <td>5437.121094</td>\n",
       "      <td>5277.165039</td>\n",
       "      <td>5313.357910</td>\n",
       "      <td>5313.357910</td>\n",
       "      <td>15822688746</td>\n",
       "    </tr>\n",
       "    <tr>\n",
       "      <th>2020-01-03 00:00:00+00:00</th>\n",
       "      <td>5312.565918</td>\n",
       "      <td>5662.306641</td>\n",
       "      <td>5263.736328</td>\n",
       "      <td>5615.142090</td>\n",
       "      <td>5615.142090</td>\n",
       "      <td>21491142914</td>\n",
       "    </tr>\n",
       "    <tr>\n",
       "      <th>2020-01-04 00:00:00+00:00</th>\n",
       "      <td>5615.517578</td>\n",
       "      <td>5678.214355</td>\n",
       "      <td>5588.101562</td>\n",
       "      <td>5665.424805</td>\n",
       "      <td>5665.424805</td>\n",
       "      <td>14100590057</td>\n",
       "    </tr>\n",
       "    <tr>\n",
       "      <th>2020-01-05 00:00:00+00:00</th>\n",
       "      <td>5665.268066</td>\n",
       "      <td>5764.659668</td>\n",
       "      <td>5659.478027</td>\n",
       "      <td>5666.796875</td>\n",
       "      <td>5666.796875</td>\n",
       "      <td>15082067804</td>\n",
       "    </tr>\n",
       "    <tr>\n",
       "      <th>...</th>\n",
       "      <td>...</td>\n",
       "      <td>...</td>\n",
       "      <td>...</td>\n",
       "      <td>...</td>\n",
       "      <td>...</td>\n",
       "      <td>...</td>\n",
       "    </tr>\n",
       "    <tr>\n",
       "      <th>2023-01-21 00:00:00+00:00</th>\n",
       "      <td>18300.048828</td>\n",
       "      <td>18792.765625</td>\n",
       "      <td>18170.832031</td>\n",
       "      <td>18385.371094</td>\n",
       "      <td>18385.371094</td>\n",
       "      <td>26186368995</td>\n",
       "    </tr>\n",
       "    <tr>\n",
       "      <th>2023-01-22 00:00:00+00:00</th>\n",
       "      <td>18385.662109</td>\n",
       "      <td>18610.654297</td>\n",
       "      <td>18064.236328</td>\n",
       "      <td>18313.632812</td>\n",
       "      <td>18313.632812</td>\n",
       "      <td>19946651396</td>\n",
       "    </tr>\n",
       "    <tr>\n",
       "      <th>2023-01-23 00:00:00+00:00</th>\n",
       "      <td>18314.173828</td>\n",
       "      <td>18672.140625</td>\n",
       "      <td>18346.089844</td>\n",
       "      <td>18526.525391</td>\n",
       "      <td>18526.525391</td>\n",
       "      <td>21421912348</td>\n",
       "    </tr>\n",
       "    <tr>\n",
       "      <th>2023-01-24 00:00:00+00:00</th>\n",
       "      <td>18522.644531</td>\n",
       "      <td>18674.376953</td>\n",
       "      <td>18289.917969</td>\n",
       "      <td>18356.433594</td>\n",
       "      <td>18356.433594</td>\n",
       "      <td>21412478348</td>\n",
       "    </tr>\n",
       "    <tr>\n",
       "      <th>2023-01-25 00:00:00+00:00</th>\n",
       "      <td>18379.367188</td>\n",
       "      <td>18470.289062</td>\n",
       "      <td>18186.851562</td>\n",
       "      <td>18361.164062</td>\n",
       "      <td>18361.164062</td>\n",
       "      <td>21536294912</td>\n",
       "    </tr>\n",
       "  </tbody>\n",
       "</table>\n",
       "<p>1121 rows × 6 columns</p>\n",
       "</div>"
      ],
      "text/plain": [
       "                                   Open          High           Low  \\\n",
       "Date                                                                  \n",
       "2020-01-01 00:00:00+00:00   5425.667969   5472.485840   5407.095215   \n",
       "2020-01-02 00:00:00+00:00   5435.643066   5437.121094   5277.165039   \n",
       "2020-01-03 00:00:00+00:00   5312.565918   5662.306641   5263.736328   \n",
       "2020-01-04 00:00:00+00:00   5615.517578   5678.214355   5588.101562   \n",
       "2020-01-05 00:00:00+00:00   5665.268066   5764.659668   5659.478027   \n",
       "...                                 ...           ...           ...   \n",
       "2023-01-21 00:00:00+00:00  18300.048828  18792.765625  18170.832031   \n",
       "2023-01-22 00:00:00+00:00  18385.662109  18610.654297  18064.236328   \n",
       "2023-01-23 00:00:00+00:00  18314.173828  18672.140625  18346.089844   \n",
       "2023-01-24 00:00:00+00:00  18522.644531  18674.376953  18289.917969   \n",
       "2023-01-25 00:00:00+00:00  18379.367188  18470.289062  18186.851562   \n",
       "\n",
       "                                  Close     Adj Close       Volume  \n",
       "Date                                                                \n",
       "2020-01-01 00:00:00+00:00   5433.849121   5433.849121  14011191757  \n",
       "2020-01-02 00:00:00+00:00   5313.357910   5313.357910  15822688746  \n",
       "2020-01-03 00:00:00+00:00   5615.142090   5615.142090  21491142914  \n",
       "2020-01-04 00:00:00+00:00   5665.424805   5665.424805  14100590057  \n",
       "2020-01-05 00:00:00+00:00   5666.796875   5666.796875  15082067804  \n",
       "...                                 ...           ...          ...  \n",
       "2023-01-21 00:00:00+00:00  18385.371094  18385.371094  26186368995  \n",
       "2023-01-22 00:00:00+00:00  18313.632812  18313.632812  19946651396  \n",
       "2023-01-23 00:00:00+00:00  18526.525391  18526.525391  21421912348  \n",
       "2023-01-24 00:00:00+00:00  18356.433594  18356.433594  21412478348  \n",
       "2023-01-25 00:00:00+00:00  18361.164062  18361.164062  21536294912  \n",
       "\n",
       "[1121 rows x 6 columns]"
      ]
     },
     "execution_count": 1,
     "metadata": {},
     "output_type": "execute_result"
    }
   ],
   "source": [
    "# importing libraries\n",
    "import yfinance as yf\n",
    "import pandas as pd\n",
    "\n",
    "\n",
    "# creating a start and end date\n",
    "start = '2020-01-01'\n",
    "\n",
    "end = '2023-01-29'\n",
    "\n",
    "# creating a variable for the ticker\n",
    "ticker = 'BTC-GBP'\n",
    "\n",
    "# downloading the bitcoin to gbp rate\n",
    "\n",
    "btc = yf.download(ticker,start=start,end=end)\n",
    "\n",
    "btc"
   ]
  },
  {
   "cell_type": "markdown",
   "metadata": {
    "pycharm": {
     "name": "#%% md\n"
    }
   },
   "source": [
    "#### Line 2f: Importing libraries\n",
    "\n",
    "```python\n",
    "import yfinance as yf\n",
    "import pandas as pd\n",
    "```\n",
    "\n",
    "In order to import and work with financial data from yahoo finance, we will need the following libraries:\n",
    "\n",
    "- yfinance: To download financial data\n",
    "- pandas: To work with the financial data as a dataframe"
   ]
  },
  {
   "cell_type": "markdown",
   "metadata": {
    "pycharm": {
     "name": "#%% md\n"
    }
   },
   "source": [
    "#### Line 6f: Creating a start and end date\n",
    "\n",
    "\n",
    "```python\n",
    "start = '2020-01-01'\n",
    "end = '2022-01-29'\n",
    "```\n",
    "\n",
    "The `yf.download()` function does not require a start and end date. If no dates are provided, it will return the data from the last five years or less, depending on how much data is available.\n",
    "\n",
    "The dates are created as strings. We use the `%y-%m-%d` format to download data from 1st Jan 2020 till 1st Nov 2021. The get_data_yahoo() function only accepts `%y-%m-%d` as a date format."
   ]
  },
  {
   "cell_type": "markdown",
   "metadata": {
    "pycharm": {
     "name": "#%% md\n"
    }
   },
   "source": [
    "#### Line 10: Creating a ticker variable\n",
    "\n",
    "```python\n",
    "ticker = 'BTC-GBP'\n",
    "```\n",
    "\n",
    "The ticker is a symbol to uniquely identify a stock. You can search the ticker on the yahoo finance website (see below). We store the ticker `'BTC-GBP'`for the Bitcon to British Pound rate in the variable `ticker`."
   ]
  },
  {
   "cell_type": "markdown",
   "metadata": {
    "pycharm": {
     "name": "#%% md\n"
    }
   },
   "source": [
    "#### Line 13: Downloading the data\n",
    "\n",
    "```python\n",
    "btc = yf.download(ticker, start, end)\n",
    "```\n",
    "\n",
    "To download the data for the Bitcoin-GBP rate, we are going to use the **yfinance** library, which we imported under the alias `yf`. We will use the `download()` function to download the financial data from finance.yahoo.com.\n",
    "\n",
    "The `download()` function requires 1 argument: ticker. The start and end arguments are optional.\n",
    "- *ticker*: the abbreviation of the stock name\n",
    "- *start*: the starting date\n",
    "- *end*: the end date\n",
    "\n",
    "We pass `ticker` as the first argument. We also enter our start and end dates using the variables `start` and `end`.\n",
    "\n",
    "These three arguments have to be passed in this specific order!"
   ]
  },
  {
   "cell_type": "markdown",
   "metadata": {
    "pycharm": {
     "name": "#%% md\n"
    }
   },
   "source": [
    "We can now have a look at the data."
   ]
  },
  {
   "cell_type": "code",
   "execution_count": null,
   "metadata": {
    "pycharm": {
     "is_executing": true,
     "name": "#%%\n"
    }
   },
   "outputs": [],
   "source": [
    "btc"
   ]
  },
  {
   "cell_type": "markdown",
   "metadata": {
    "pycharm": {
     "name": "#%% md\n"
    }
   },
   "source": [
    "---"
   ]
  },
  {
   "cell_type": "markdown",
   "metadata": {
    "pycharm": {
     "name": "#%% md\n"
    }
   },
   "source": [
    "<img src=\"https://www.dropbox.com/s/ijgo4f0sm3k2xc0/tesco_ms.png?raw=1\" align=\"left\" width=400px>"
   ]
  },
  {
   "cell_type": "markdown",
   "metadata": {
    "pycharm": {
     "name": "#%% md\n"
    }
   },
   "source": [
    "## Task 2: Import the stock data from Tesco and Marks and Spencer"
   ]
  },
  {
   "cell_type": "markdown",
   "metadata": {
    "pycharm": {
     "name": "#%% md\n"
    }
   },
   "source": [
    "1. Import the relevant libraries as shown above.\n",
    "2. Search for the ticker for Tesco and Marks and Spencer from the London Stock Exchange on https://uk.finance.yahoo.com/\n",
    "\n",
    "<img src=\"https://www.dropbox.com/s/ggjn22cr2vhru8q/yahoo_finance.png?raw=1\" width=500px>\n",
    "\n",
    "3. Create as a start date 2010 and today as the end date.\n",
    "4. Import the stock data using yahoo finance as the source and store both in separate variables.\n",
    "5. Export both datasets as a csv.\n",
    "6. Print the head of each dataset.\n",
    "7. The start and end date are optional parameters. How else can you get the data from the past 10 years, apart from entering the end date?"
   ]
  },
  {
   "cell_type": "code",
   "execution_count": 2,
   "metadata": {
    "pycharm": {
     "name": "#%%\n"
    }
   },
   "outputs": [
    {
     "name": "stdout",
     "output_type": "stream",
     "text": [
      "[*********************100%***********************]  1 of 1 completed\n",
      "[*********************100%***********************]  1 of 1 completed\n"
     ]
    },
    {
     "data": {
      "text/html": [
       "<div>\n",
       "<style scoped>\n",
       "    .dataframe tbody tr th:only-of-type {\n",
       "        vertical-align: middle;\n",
       "    }\n",
       "\n",
       "    .dataframe tbody tr th {\n",
       "        vertical-align: top;\n",
       "    }\n",
       "\n",
       "    .dataframe thead th {\n",
       "        text-align: right;\n",
       "    }\n",
       "</style>\n",
       "<table border=\"1\" class=\"dataframe\">\n",
       "  <thead>\n",
       "    <tr style=\"text-align: right;\">\n",
       "      <th></th>\n",
       "      <th>Open</th>\n",
       "      <th>High</th>\n",
       "      <th>Low</th>\n",
       "      <th>Close</th>\n",
       "      <th>Adj Close</th>\n",
       "      <th>Volume</th>\n",
       "    </tr>\n",
       "    <tr>\n",
       "      <th>Date</th>\n",
       "      <th></th>\n",
       "      <th></th>\n",
       "      <th></th>\n",
       "      <th></th>\n",
       "      <th></th>\n",
       "      <th></th>\n",
       "    </tr>\n",
       "  </thead>\n",
       "  <tbody>\n",
       "    <tr>\n",
       "      <th>2010-01-04 00:00:00+00:00</th>\n",
       "      <td>384.023804</td>\n",
       "      <td>391.808685</td>\n",
       "      <td>379.941498</td>\n",
       "      <td>391.523895</td>\n",
       "      <td>250.705673</td>\n",
       "      <td>9607789</td>\n",
       "    </tr>\n",
       "    <tr>\n",
       "      <th>2010-01-05 00:00:00+00:00</th>\n",
       "      <td>389.245392</td>\n",
       "      <td>389.245392</td>\n",
       "      <td>381.175690</td>\n",
       "      <td>384.403595</td>\n",
       "      <td>246.146271</td>\n",
       "      <td>14440266</td>\n",
       "    </tr>\n",
       "    <tr>\n",
       "      <th>2010-01-06 00:00:00+00:00</th>\n",
       "      <td>369.308411</td>\n",
       "      <td>372.061615</td>\n",
       "      <td>356.396912</td>\n",
       "      <td>358.295593</td>\n",
       "      <td>229.428452</td>\n",
       "      <td>49485008</td>\n",
       "    </tr>\n",
       "    <tr>\n",
       "      <th>2010-01-07 00:00:00+00:00</th>\n",
       "      <td>356.112091</td>\n",
       "      <td>358.960205</td>\n",
       "      <td>350.890503</td>\n",
       "      <td>352.219604</td>\n",
       "      <td>225.537827</td>\n",
       "      <td>19742326</td>\n",
       "    </tr>\n",
       "    <tr>\n",
       "      <th>2010-01-08 00:00:00+00:00</th>\n",
       "      <td>352.504395</td>\n",
       "      <td>353.928497</td>\n",
       "      <td>346.523285</td>\n",
       "      <td>347.852509</td>\n",
       "      <td>222.741409</td>\n",
       "      <td>21221404</td>\n",
       "    </tr>\n",
       "  </tbody>\n",
       "</table>\n",
       "</div>"
      ],
      "text/plain": [
       "                                 Open        High         Low       Close  \\\n",
       "Date                                                                        \n",
       "2010-01-04 00:00:00+00:00  384.023804  391.808685  379.941498  391.523895   \n",
       "2010-01-05 00:00:00+00:00  389.245392  389.245392  381.175690  384.403595   \n",
       "2010-01-06 00:00:00+00:00  369.308411  372.061615  356.396912  358.295593   \n",
       "2010-01-07 00:00:00+00:00  356.112091  358.960205  350.890503  352.219604   \n",
       "2010-01-08 00:00:00+00:00  352.504395  353.928497  346.523285  347.852509   \n",
       "\n",
       "                            Adj Close    Volume  \n",
       "Date                                             \n",
       "2010-01-04 00:00:00+00:00  250.705673   9607789  \n",
       "2010-01-05 00:00:00+00:00  246.146271  14440266  \n",
       "2010-01-06 00:00:00+00:00  229.428452  49485008  \n",
       "2010-01-07 00:00:00+00:00  225.537827  19742326  \n",
       "2010-01-08 00:00:00+00:00  222.741409  21221404  "
      ]
     },
     "metadata": {},
     "output_type": "display_data"
    },
    {
     "data": {
      "text/html": [
       "<div>\n",
       "<style scoped>\n",
       "    .dataframe tbody tr th:only-of-type {\n",
       "        vertical-align: middle;\n",
       "    }\n",
       "\n",
       "    .dataframe tbody tr th {\n",
       "        vertical-align: top;\n",
       "    }\n",
       "\n",
       "    .dataframe thead th {\n",
       "        text-align: right;\n",
       "    }\n",
       "</style>\n",
       "<table border=\"1\" class=\"dataframe\">\n",
       "  <thead>\n",
       "    <tr style=\"text-align: right;\">\n",
       "      <th></th>\n",
       "      <th>Open</th>\n",
       "      <th>High</th>\n",
       "      <th>Low</th>\n",
       "      <th>Close</th>\n",
       "      <th>Adj Close</th>\n",
       "      <th>Volume</th>\n",
       "    </tr>\n",
       "    <tr>\n",
       "      <th>Date</th>\n",
       "      <th></th>\n",
       "      <th></th>\n",
       "      <th></th>\n",
       "      <th></th>\n",
       "      <th></th>\n",
       "      <th></th>\n",
       "    </tr>\n",
       "  </thead>\n",
       "  <tbody>\n",
       "    <tr>\n",
       "      <th>2010-01-04 00:00:00+00:00</th>\n",
       "      <td>542.006409</td>\n",
       "      <td>545.806396</td>\n",
       "      <td>538.523071</td>\n",
       "      <td>542.639709</td>\n",
       "      <td>310.860504</td>\n",
       "      <td>6520208</td>\n",
       "    </tr>\n",
       "    <tr>\n",
       "      <th>2010-01-05 00:00:00+00:00</th>\n",
       "      <td>536.686401</td>\n",
       "      <td>536.939697</td>\n",
       "      <td>529.783081</td>\n",
       "      <td>532.569702</td>\n",
       "      <td>305.091736</td>\n",
       "      <td>13344524</td>\n",
       "    </tr>\n",
       "    <tr>\n",
       "      <th>2010-01-06 00:00:00+00:00</th>\n",
       "      <td>533.203125</td>\n",
       "      <td>533.646423</td>\n",
       "      <td>518.953125</td>\n",
       "      <td>521.929688</td>\n",
       "      <td>298.996399</td>\n",
       "      <td>25619244</td>\n",
       "    </tr>\n",
       "    <tr>\n",
       "      <th>2010-01-07 00:00:00+00:00</th>\n",
       "      <td>522.626404</td>\n",
       "      <td>529.656372</td>\n",
       "      <td>521.676392</td>\n",
       "      <td>521.866394</td>\n",
       "      <td>298.960083</td>\n",
       "      <td>13978624</td>\n",
       "    </tr>\n",
       "    <tr>\n",
       "      <th>2010-01-08 00:00:00+00:00</th>\n",
       "      <td>521.549683</td>\n",
       "      <td>526.869690</td>\n",
       "      <td>520.029724</td>\n",
       "      <td>526.869690</td>\n",
       "      <td>301.826355</td>\n",
       "      <td>16293960</td>\n",
       "    </tr>\n",
       "  </tbody>\n",
       "</table>\n",
       "</div>"
      ],
      "text/plain": [
       "                                 Open        High         Low       Close  \\\n",
       "Date                                                                        \n",
       "2010-01-04 00:00:00+00:00  542.006409  545.806396  538.523071  542.639709   \n",
       "2010-01-05 00:00:00+00:00  536.686401  536.939697  529.783081  532.569702   \n",
       "2010-01-06 00:00:00+00:00  533.203125  533.646423  518.953125  521.929688   \n",
       "2010-01-07 00:00:00+00:00  522.626404  529.656372  521.676392  521.866394   \n",
       "2010-01-08 00:00:00+00:00  521.549683  526.869690  520.029724  526.869690   \n",
       "\n",
       "                            Adj Close    Volume  \n",
       "Date                                             \n",
       "2010-01-04 00:00:00+00:00  310.860504   6520208  \n",
       "2010-01-05 00:00:00+00:00  305.091736  13344524  \n",
       "2010-01-06 00:00:00+00:00  298.996399  25619244  \n",
       "2010-01-07 00:00:00+00:00  298.960083  13978624  \n",
       "2010-01-08 00:00:00+00:00  301.826355  16293960  "
      ]
     },
     "metadata": {},
     "output_type": "display_data"
    }
   ],
   "source": [
    "# import libraries\n",
    "import pandas as pd\n",
    "from yfinance import pdr_override\n",
    "\n",
    "# set ticker variables\n",
    "tkr1 = 'MKS.L'\n",
    "tkr2 = 'TSCO.L'\n",
    "\n",
    "# set start and end dates\n",
    "start = '2010-01-01'\n",
    "end = '2021-11-29'\n",
    "\n",
    "# download stock data\n",
    "mks = yf.download(tkr1, start, end)\n",
    "tsco = yf.download(tkr2, start, end)\n",
    "\n",
    "# export stock data to csv\n",
    "mks.to_csv('mks.csv')\n",
    "tsco.to_csv('tsco.csv')\n",
    "\n",
    "# print head of each dataset\n",
    "display(mks.head())\n",
    "display(tsco.head())"
   ]
  },
  {
   "cell_type": "markdown",
   "metadata": {
    "pycharm": {
     "name": "#%% md\n"
    }
   },
   "source": [
    "---"
   ]
  },
  {
   "cell_type": "markdown",
   "metadata": {
    "pycharm": {
     "name": "#%% md\n"
    }
   },
   "source": [
    "## Inspecting a dataset"
   ]
  },
  {
   "cell_type": "markdown",
   "metadata": {
    "pycharm": {
     "name": "#%% md\n"
    }
   },
   "source": [
    "### Getting an overview of the data\n",
    "\n",
    "Pandas has a number of useful methods to get an overview of your dataset. Try a websearch if you cannot remember the method from the courses on dataquest.io to solve the task."
   ]
  },
  {
   "cell_type": "markdown",
   "metadata": {
    "pycharm": {
     "name": "#%% md\n"
    }
   },
   "source": [
    "## Task 3: Inspecting the dataset\n",
    "\n",
    "1. Print the column types of the Tesco and Marks and Spencer stock dataset.\n",
    "2. Print the number of rows of both datasets.\n",
    "3. Print the the first and last value in the Adjusted Close column of each dataset.\n",
    "4. Print the summary statistics for the complete dataframe."
   ]
  },
  {
   "cell_type": "code",
   "execution_count": 3,
   "metadata": {
    "pycharm": {
     "name": "#%%\n"
    }
   },
   "outputs": [
    {
     "data": {
      "text/plain": [
       "Open         float64\n",
       "High         float64\n",
       "Low          float64\n",
       "Close        float64\n",
       "Adj Close    float64\n",
       "Volume         int64\n",
       "dtype: object"
      ]
     },
     "metadata": {},
     "output_type": "display_data"
    },
    {
     "data": {
      "text/plain": [
       "Open         float64\n",
       "High         float64\n",
       "Low          float64\n",
       "Close        float64\n",
       "Adj Close    float64\n",
       "Volume         int64\n",
       "dtype: object"
      ]
     },
     "metadata": {},
     "output_type": "display_data"
    },
    {
     "name": "stdout",
     "output_type": "stream",
     "text": [
      "3010\n",
      "3009\n",
      "238.10000610351562\n",
      "279.1499938964844\n",
      "448.96514892578125\n",
      "329.7268981933594\n"
     ]
    }
   ],
   "source": [
    "#Print the column types of the Tesco and Marks and Spencer stock dataset.\n",
    "display(mks.dtypes)\n",
    "display(tsco.dtypes)\n",
    "\n",
    "#Print the number of rows of both datasets.\n",
    "print(len(mks))\n",
    "print(len(tsco))\n",
    "\n",
    "#Print the first and last value in the Close column of each dataset.\n",
    "print(mks['Close'][-1])\n",
    "print(tsco['Close'][-1])\n",
    "\n",
    "#Print the maximum and minimum value of the Close column of each dataset.\n",
    "print(mks['Adj Close'].max())\n",
    "print(tsco['Adj Close'].max())"
   ]
  },
  {
   "cell_type": "markdown",
   "metadata": {
    "pycharm": {
     "name": "#%% md\n"
    }
   },
   "source": [
    "---"
   ]
  },
  {
   "cell_type": "markdown",
   "metadata": {
    "pycharm": {
     "name": "#%% md\n"
    }
   },
   "source": [
    "## Plotting with matplotlib"
   ]
  },
  {
   "cell_type": "markdown",
   "metadata": {
    "pycharm": {
     "name": "#%% md\n"
    }
   },
   "source": [
    "Matplotlib is the most popular plotting library in Python. It allows you to create many different plots with very few code. Although creating more complex plots, can be challenging, it isn't difficult to find useful help in [blog posts](https://towardsdatascience.com/matplotlib-tutorial-learn-basics-of-pythons-powerful-plotting-library-b5d1b8f67596), [tutorials](https://realpython.com/python-matplotlib-guide/), on [stackoverflow.com](https://stackoverflow.com/questions/tagged/matplotlib?sort=MostVotes&edited=true) or the documentation and tutorials on the [matplotlib website](https://matplotlib.org/tutorials/).\n",
    "\n",
    "We are going to use the **matplotlib** library to plot the Bitcoin to British Pound rate as a function of time. We can use the **index** of the **btc** data frame to retrieve the date and the **Adj Close** column to plot the Bitcoin to Pound rate."
   ]
  },
  {
   "cell_type": "markdown",
   "metadata": {
    "pycharm": {
     "name": "#%% md\n"
    }
   },
   "source": [
    "### Simple line plot"
   ]
  },
  {
   "cell_type": "code",
   "execution_count": 6,
   "metadata": {
    "pycharm": {
     "name": "#%%\n"
    }
   },
   "outputs": [
    {
     "data": {
      "image/png": "[encoded data removed]",
      "text/plain": [
       "<Figure size 640x480 with 1 Axes>"
      ]
     },
     "metadata": {},
     "output_type": "display_data"
    }
   ],
   "source": [
    "#import matplotlib\n",
    "import matplotlib.pyplot as plt\n",
    "\n",
    "# plot Adj Close column\n",
    "plt.plot(btc.index, btc['Adj Close'])\n",
    "\n",
    "plt.show()"
   ]
  },
  {
   "cell_type": "markdown",
   "metadata": {
    "pycharm": {
     "name": "#%% md\n"
    }
   },
   "source": [
    "#### Line 1: Importing matplotlib\n",
    "\n",
    "```python\n",
    "import matplotlib.pyplot as plt\n",
    "```\n",
    "\n",
    "We start by importing the `pyplot` module from the `matplotlib` library under the alias `plt`."
   ]
  },
  {
   "cell_type": "markdown",
   "metadata": {
    "pycharm": {
     "name": "#%% md\n"
    }
   },
   "source": [
    "#### Line 3: line plot\n",
    "\n",
    "```python\n",
    "plt.plot(btc.index, btc['Close'])\n",
    "```\n",
    "\n",
    "From the `plt` module we call the `plot()` function and we pass as arguments the **index** and the **Close** column of the btc dataframe. The values for the x and y axis are positional arguments, which means they have to be passed in this order."
   ]
  },
  {
   "cell_type": "markdown",
   "metadata": {
    "pycharm": {
     "name": "#%% md\n"
    }
   },
   "source": [
    "#### Line 4: plt.show()\n",
    "\n",
    "```python\n",
    "plt.show()\n",
    "```\n",
    "\n",
    "The `plt.show()` command is used to display matplotlib figures. It is actually not necessary to run the plt.show() command in a Jupyter notebook to display the figures, but you would have to use it to display a plot in a normal Python script for instance."
   ]
  },
  {
   "cell_type": "markdown",
   "metadata": {
    "pycharm": {
     "name": "#%% md\n"
    }
   },
   "source": [
    "## Task 4: A simple line plot\n",
    "\n",
    "1. Import matplotlib\n",
    "2. Create a line plot of the Adjusted Close column of the Tesco stock on the y-axis and the date on the x-axis."
   ]
  },
  {
   "cell_type": "code",
   "execution_count": 4,
   "metadata": {
    "pycharm": {
     "name": "#%%\n"
    }
   },
   "outputs": [
    {
     "data": {
      "image/png": "[encoded data removed]",
      "text/plain": [
       "<Figure size 640x480 with 1 Axes>"
      ]
     },
     "metadata": {},
     "output_type": "display_data"
    }
   ],
   "source": [
    "import matplotlib.pyplot as plt\n",
    "\n",
    "plt.plot(tsco.index, tsco['Adj Close'])\n",
    "plt.show()"
   ]
  },
  {
   "cell_type": "markdown",
   "metadata": {
    "pycharm": {
     "name": "#%% md\n"
    }
   },
   "source": [
    "---"
   ]
  },
  {
   "cell_type": "markdown",
   "metadata": {
    "pycharm": {
     "name": "#%% md\n"
    }
   },
   "source": [
    "## Customized line plot\n",
    "\n",
    "In the next step, we will customize the look of the plot by changing colors, adding labels and text and adding a grid. See explanations on the code below."
   ]
  },
  {
   "cell_type": "code",
   "execution_count": 7,
   "metadata": {
    "pycharm": {
     "name": "#%%\n"
    }
   },
   "outputs": [
    {
     "data": {
      "image/png": "[encoded data removed]",
      "text/plain": [
       "<Figure size 640x480 with 1 Axes>"
      ]
     },
     "metadata": {},
     "output_type": "display_data"
    }
   ],
   "source": [
    "plt.plot(btc.index, btc['Adj Close'], color='tab:orange', linewidth=2, alpha=.8)\n",
    "\n",
    "plt.title('BTC') # adding a plot title\n",
    "plt.xlabel('Date') # adding an x-axis label\n",
    "plt.ylabel('Price') # adding a y-axis label\n",
    "plt.xticks(rotation=30) # rotating x-ticks\n",
    "plt.yticks([10000, 20000, 30000, 40000, 50000], \n",
    "           ['£10000', '£20000', '£30000', '£40000', '£50000']) # adding labels\n",
    "plt.grid(linestyle='--') # adding a grid to the plot\n",
    "\n",
    "plt.show()"
   ]
  },
  {
   "cell_type": "markdown",
   "metadata": {
    "pycharm": {
     "name": "#%% md\n"
    }
   },
   "source": [
    "#### Line 1: Changing the appearance of the line\n",
    "\n",
    "\n",
    "```python\n",
    "plt.plot(btc.index, btc['Adj Close'], color='tab:orange', linewidth=1.5, alpha=.8)\n",
    "```\n",
    "We can change the appearance of the line with several keyword arguments to be passed to the `plt.plot()` function. \n",
    "\n",
    "We use the `color` argument to change the colour to the tableau orange with `'tab:orange'`. Have a look at the [matplotlib documentation](https://matplotlib.org/3.1.0/gallery/color/named_colors.html) for a colour palette and corresponding names.\n",
    "\n",
    "The `linewdith` argument takes float values to adjust the width of the line.\n",
    "\n",
    "With the `alpha` argument you can change the transparency of the line. You have to pass a value between 0 and 1."
   ]
  },
  {
   "cell_type": "markdown",
   "metadata": {
    "pycharm": {
     "name": "#%% md\n"
    }
   },
   "source": [
    "#### Line 3-5: Adding a title and labels\n",
    "\n",
    "\n",
    "```python\n",
    "plt.title('Bitcoin')\n",
    "plt.xlabel('Date')\n",
    "plt.ylabel('Price in GBP')\n",
    "```\n",
    "\n",
    "To add a title and labels for the x- and y-axis, we use `plt.title()`, `plt.xlabel()` and `plt.ylabel()` and pass a string for the title and axes labels.\n",
    "\n",
    "#### Line 6: Changing x-tick orientation\n",
    "\n",
    "```python\n",
    "plt.xticks(rotation=30)\n",
    "```\n",
    "The orientation of the x-ticks can be adjusted by passing a degree value to the rotation parameter from the `plt.xticks()` function.\n",
    "\n",
    "\n",
    "#### Line 7-8: Adding tick labels on y-axis\n",
    "\n",
    "```python\n",
    "plt.yticks([10000, 20000, 30000, 40000, 50000],\n",
    "           ['£10000', '£20000', '£30000', '£40000', '£50000'])\n",
    "```\n",
    "\n",
    "We can change the tick labels on the y-axis with `plt.ticks()` to display numbers preceded with a Pound symbol. To do this, we have to pass two lists to the function - the first containing the tick positions (10000 - 50000) and the second containing the string values that should be displayed at each tick position. \n",
    "\n",
    "#### Line 8: Addng a grid\n",
    "```python\n",
    "plt.grid(linestyle='--')\n",
    "```\n",
    "\n",
    "`plt.grid(linestyle='--')` adds a grid. With the `linestyle` argument we can change the from a solid to a dashed line."
   ]
  },
  {
   "cell_type": "markdown",
   "metadata": {
    "pycharm": {
     "name": "#%% md\n"
    }
   },
   "source": [
    "## Task 5: Customizing the line plot\n",
    "\n",
    "1. Adjust the colour, linewidth and alpha\n",
    "2. Add a title and axis labels\n",
    "3. Change the yticks to display a pound sign before the numbers\n",
    "4. Add a grid"
   ]
  },
  {
   "cell_type": "code",
   "execution_count": 5,
   "metadata": {
    "pycharm": {
     "name": "#%%\n"
    }
   },
   "outputs": [
    {
     "data": {
      "image/png": "[encoded data removed]",
      "text/plain": [
       "<Figure size 640x480 with 1 Axes>"
      ]
     },
     "metadata": {},
     "output_type": "display_data"
    }
   ],
   "source": [
    "plt.plot(tsco.index, tsco['Adj Close'], color='tab:blue', linewidth=1.5, alpha=.8)\n",
    "plt.title('TSCO.L') # adding a plot title\n",
    "plt.xlabel('Date') # adding an x-axis label\n",
    "plt.ylabel('Adj Close in GBP') # adding a y-axis label\n",
    "plt.yticks([100, 150, 200, 250, 300, 350, 400],\n",
    "           ['£100', '£150', '£200', '£250', '£300', '£350', '£400'])\n",
    "plt.grid(linestyle='--') # adding a grid to the plot\n",
    "\n",
    "plt.show()"
   ]
  },
  {
   "cell_type": "markdown",
   "metadata": {
    "pycharm": {
     "name": "#%% md\n"
    }
   },
   "source": [
    "---"
   ]
  },
  {
   "cell_type": "markdown",
   "metadata": {
    "pycharm": {
     "name": "#%% md\n"
    }
   },
   "source": [
    "## Adding a second data series and a legend\n",
    "\n",
    "In the example below, a second line with the adjusted close price for Ethereum, which is another crypto currency, is added to the plot. See below for detailed explanations on the code."
   ]
  },
  {
   "cell_type": "code",
   "execution_count": 8,
   "metadata": {
    "pycharm": {
     "name": "#%%\n"
    }
   },
   "outputs": [
    {
     "name": "stdout",
     "output_type": "stream",
     "text": [
      "[*********************100%***********************]  1 of 1 completed\n"
     ]
    },
    {
     "data": {
      "image/png": "[encoded data removed]",
      "text/plain": [
       "<Figure size 640x480 with 1 Axes>"
      ]
     },
     "metadata": {},
     "output_type": "display_data"
    }
   ],
   "source": [
    "eth = yf.download('ETH-GBP', start, end)\n",
    "\n",
    "plt.plot(btc.index, btc['Adj Close'], color='tab:orange', label='Bitcoin') # plotting the first line\n",
    "plt.plot(eth.index, eth['Adj Close'], color='tab:blue', label='Ethereum') # plotting the second line\n",
    "\n",
    "plt.title('BTC vs ETH')\n",
    "plt.xlabel('Date')\n",
    "plt.ylabel('Price in GBP')\n",
    "plt.xticks(rotation=30)\n",
    "plt.yticks([10000, 20000, 30000, 40000, 50000],\n",
    "           ['£10000', '£20000', '£30000', '£40000', '£50000'])\n",
    "plt.grid(linestyle='--')\n",
    "plt.legend() # displaying the legend using labels from plt.plot()\n",
    "\n",
    "plt.show()"
   ]
  },
  {
   "cell_type": "markdown",
   "metadata": {
    "pycharm": {
     "name": "#%% md\n"
    }
   },
   "source": [
    "#### Line 3f: Plotting two lines in the same plot\n",
    "\n",
    "```python\n",
    "plt.plot(btc.index, btc['Adj Close'], color='tab:orange', label='Bitcoin')\n",
    "plt.plot(eth.index, eth['Adj Close'], color='tab:blue', label='Ethereum')\n",
    "```\n",
    "\n",
    "To add a second data series to the plot, you can add another `plt.plot()` call. In the example below, a second line is created by using the values from the Adj Close column of the Ethereum data. To better differentiate the two lines the colour is set to `tab:blue` and a label is applied with the `label` argument."
   ]
  },
  {
   "cell_type": "markdown",
   "metadata": {
    "pycharm": {
     "name": "#%% md\n"
    }
   },
   "source": [
    "#### Line 13: Adding a legend\n",
    "\n",
    "```python\n",
    "plt.legend()\n",
    "```\n",
    "\n",
    "With `plt.legend()` the legend is being displayed in the plot area. The legend will use the labels that we added to the lines with the `label` argument in line 1 and 2."
   ]
  },
  {
   "cell_type": "markdown",
   "metadata": {
    "pycharm": {
     "name": "#%% md\n"
    }
   },
   "source": [
    "### Task 5: Adding a second line\n",
    "\n",
    "1. Add a second line to the plot for the Marks and Spencer Adj Close column\n",
    "2. Add labels to both lines\n",
    "3. Add a legend\n",
    "4. Adjust the title\n",
    "5. Adjust the yaxis ticks"
   ]
  },
  {
   "cell_type": "code",
   "execution_count": 6,
   "metadata": {
    "pycharm": {
     "name": "#%%\n"
    }
   },
   "outputs": [
    {
     "data": {
      "image/png": "[encoded data removed]",
      "text/plain": [
       "<Figure size 640x480 with 1 Axes>"
      ]
     },
     "metadata": {},
     "output_type": "display_data"
    }
   ],
   "source": [
    "plt.plot(tsco.index, tsco['Adj Close'], color='tab:blue', linewidth=1.5, alpha=.7, label='TSCO')\n",
    "plt.plot(mks.index, mks['Adj Close'], color='black', linewidth=1.5, alpha=.7, label='MKS')\n",
    "\n",
    "plt.title('TSCO')\n",
    "plt.ylabel('Adj Close')\n",
    "plt.yticks([150, 200, 250, 300, 350], \n",
    "           ['£150', '£200', '£250', '£300', '£350'])\n",
    "plt.grid()\n",
    "plt.legend()\n",
    "plt.show()"
   ]
  },
  {
   "cell_type": "markdown",
   "metadata": {
    "pycharm": {
     "name": "#%% md\n"
    }
   },
   "source": [
    "## Calculating returns"
   ]
  },
  {
   "attachments": {},
   "cell_type": "markdown",
   "metadata": {
    "pycharm": {
     "name": "#%% md\n"
    }
   },
   "source": [
    "Netflix has seen a strong growth over the last decade. In the following tasks, you will download and visualize the Netflix stock price with a line chart and then continue to calculate the daily, monthly and annual returns and visualize them."
   ]
  },
  {
   "cell_type": "markdown",
   "metadata": {
    "pycharm": {
     "name": "#%% md\n"
    }
   },
   "source": [
    "&nbsp;\n",
    "\n",
    "<img src=\"https://upload.wikimedia.org/wikipedia/commons/thumb/0/08/Netflix_2015_logo.svg/800px-Netflix_2015_logo.svg.png\" width=\"40%\" align=\"left\">"
   ]
  },
  {
   "attachments": {},
   "cell_type": "markdown",
   "metadata": {
    "pycharm": {
     "name": "#%% md\n"
    }
   },
   "source": [
    "### Task 6: Import netflix stock\n",
    "\n",
    "1. Search for the ticker for the Netflix stock on the yahoo finance website\n",
    "2. Import the Netflix stock data from 2009 till today\n",
    "3. Print the head of the dataframe and the first and last date to verify the download of the data."
   ]
  },
  {
   "cell_type": "code",
   "execution_count": 7,
   "metadata": {
    "pycharm": {
     "name": "#%%\n"
    }
   },
   "outputs": [
    {
     "name": "stdout",
     "output_type": "stream",
     "text": [
      "[*********************100%***********************]  1 of 1 completed\n"
     ]
    },
    {
     "data": {
      "text/html": [
       "<div>\n",
       "<style scoped>\n",
       "    .dataframe tbody tr th:only-of-type {\n",
       "        vertical-align: middle;\n",
       "    }\n",
       "\n",
       "    .dataframe tbody tr th {\n",
       "        vertical-align: top;\n",
       "    }\n",
       "\n",
       "    .dataframe thead th {\n",
       "        text-align: right;\n",
       "    }\n",
       "</style>\n",
       "<table border=\"1\" class=\"dataframe\">\n",
       "  <thead>\n",
       "    <tr style=\"text-align: right;\">\n",
       "      <th></th>\n",
       "      <th>Open</th>\n",
       "      <th>High</th>\n",
       "      <th>Low</th>\n",
       "      <th>Close</th>\n",
       "      <th>Adj Close</th>\n",
       "      <th>Volume</th>\n",
       "    </tr>\n",
       "    <tr>\n",
       "      <th>Date</th>\n",
       "      <th></th>\n",
       "      <th></th>\n",
       "      <th></th>\n",
       "      <th></th>\n",
       "      <th></th>\n",
       "      <th></th>\n",
       "    </tr>\n",
       "  </thead>\n",
       "  <tbody>\n",
       "    <tr>\n",
       "      <th>2009-01-02 00:00:00-05:00</th>\n",
       "      <td>4.217143</td>\n",
       "      <td>4.357143</td>\n",
       "      <td>4.200000</td>\n",
       "      <td>4.267143</td>\n",
       "      <td>4.267143</td>\n",
       "      <td>6605200</td>\n",
       "    </tr>\n",
       "    <tr>\n",
       "      <th>2009-01-05 00:00:00-05:00</th>\n",
       "      <td>4.327143</td>\n",
       "      <td>4.562857</td>\n",
       "      <td>4.302857</td>\n",
       "      <td>4.562857</td>\n",
       "      <td>4.562857</td>\n",
       "      <td>13044500</td>\n",
       "    </tr>\n",
       "    <tr>\n",
       "      <th>2009-01-06 00:00:00-05:00</th>\n",
       "      <td>4.591429</td>\n",
       "      <td>4.750000</td>\n",
       "      <td>4.590000</td>\n",
       "      <td>4.705714</td>\n",
       "      <td>4.705714</td>\n",
       "      <td>12065900</td>\n",
       "    </tr>\n",
       "    <tr>\n",
       "      <th>2009-01-07 00:00:00-05:00</th>\n",
       "      <td>4.715714</td>\n",
       "      <td>4.734286</td>\n",
       "      <td>4.571429</td>\n",
       "      <td>4.672857</td>\n",
       "      <td>4.672857</td>\n",
       "      <td>10133900</td>\n",
       "    </tr>\n",
       "    <tr>\n",
       "      <th>2009-01-08 00:00:00-05:00</th>\n",
       "      <td>4.618571</td>\n",
       "      <td>4.797143</td>\n",
       "      <td>4.485714</td>\n",
       "      <td>4.735714</td>\n",
       "      <td>4.735714</td>\n",
       "      <td>8175300</td>\n",
       "    </tr>\n",
       "  </tbody>\n",
       "</table>\n",
       "</div>"
      ],
      "text/plain": [
       "                               Open      High       Low     Close  Adj Close  \\\n",
       "Date                                                                           \n",
       "2009-01-02 00:00:00-05:00  4.217143  4.357143  4.200000  4.267143   4.267143   \n",
       "2009-01-05 00:00:00-05:00  4.327143  4.562857  4.302857  4.562857   4.562857   \n",
       "2009-01-06 00:00:00-05:00  4.591429  4.750000  4.590000  4.705714   4.705714   \n",
       "2009-01-07 00:00:00-05:00  4.715714  4.734286  4.571429  4.672857   4.672857   \n",
       "2009-01-08 00:00:00-05:00  4.618571  4.797143  4.485714  4.735714   4.735714   \n",
       "\n",
       "                             Volume  \n",
       "Date                                 \n",
       "2009-01-02 00:00:00-05:00   6605200  \n",
       "2009-01-05 00:00:00-05:00  13044500  \n",
       "2009-01-06 00:00:00-05:00  12065900  \n",
       "2009-01-07 00:00:00-05:00  10133900  \n",
       "2009-01-08 00:00:00-05:00   8175300  "
      ]
     },
     "metadata": {},
     "output_type": "display_data"
    },
    {
     "name": "stdout",
     "output_type": "stream",
     "text": [
      "2009-01-02 00:00:00-05:00\n",
      "2023-01-24 00:00:00-05:00\n"
     ]
    }
   ],
   "source": [
    "nflx = yf.download('nflx', start='2009-01-01')\n",
    "\n",
    "display(nflx.head())\n",
    "print(nflx.index[0])\n",
    "print(nflx.index[-1])"
   ]
  },
  {
   "cell_type": "markdown",
   "metadata": {
    "pycharm": {
     "name": "#%% md\n"
    }
   },
   "source": [
    "## Calculating daily returns"
   ]
  },
  {
   "cell_type": "markdown",
   "metadata": {
    "pycharm": {
     "name": "#%% md\n"
    }
   },
   "source": [
    "In the next step, you are going to calculate daily, monthly and annual returns based for the Netflix stock. Returns tell you how much money an investor would have made over a particular period of time by giving either the absolute or percentual change of the price from one day/month/year to another."
   ]
  },
  {
   "cell_type": "markdown",
   "metadata": {
    "pycharm": {
     "name": "#%% md\n"
    }
   },
   "source": [
    "In the example below, we will use the Amazon stock data which we download from yahoo finance with pandas-datatreader. To calculate the daily return, that is, the percentual change from one day to another, we can use the `.pct_change()` method. We apply this method to the **Adj Close** column and assign the result to a new column called **daily_ret**."
   ]
  },
  {
   "cell_type": "code",
   "execution_count": 9,
   "metadata": {
    "pycharm": {
     "is_executing": true,
     "name": "#%%\n"
    }
   },
   "outputs": [
    {
     "name": "stdout",
     "output_type": "stream",
     "text": [
      "[*********************100%***********************]  1 of 1 completed\n"
     ]
    }
   ],
   "source": [
    "amzn = yf.download('AMZN', start='1997-05-15')\n",
    "\n",
    "amzn['daily_ret'] = amzn['Adj Close'].pct_change()"
   ]
  },
  {
   "cell_type": "markdown",
   "metadata": {
    "pycharm": {
     "name": "#%% md\n"
    }
   },
   "source": [
    "As you can see, the new column **daily_ret** has been added to the dataframe. The values indicate the percentual change from one day to another. \n",
    "\n",
    "The second value in the **daily_ret** column represents the percentual change from the first to the second value in the **Adj Close** column."
   ]
  },
  {
   "cell_type": "code",
   "execution_count": 10,
   "metadata": {
    "pycharm": {
     "is_executing": true,
     "name": "#%%\n"
    }
   },
   "outputs": [
    {
     "data": {
      "text/html": [
       "<div>\n",
       "<style scoped>\n",
       "    .dataframe tbody tr th:only-of-type {\n",
       "        vertical-align: middle;\n",
       "    }\n",
       "\n",
       "    .dataframe tbody tr th {\n",
       "        vertical-align: top;\n",
       "    }\n",
       "\n",
       "    .dataframe thead th {\n",
       "        text-align: right;\n",
       "    }\n",
       "</style>\n",
       "<table border=\"1\" class=\"dataframe\">\n",
       "  <thead>\n",
       "    <tr style=\"text-align: right;\">\n",
       "      <th></th>\n",
       "      <th>Open</th>\n",
       "      <th>High</th>\n",
       "      <th>Low</th>\n",
       "      <th>Close</th>\n",
       "      <th>Adj Close</th>\n",
       "      <th>Volume</th>\n",
       "      <th>daily_ret</th>\n",
       "    </tr>\n",
       "    <tr>\n",
       "      <th>Date</th>\n",
       "      <th></th>\n",
       "      <th></th>\n",
       "      <th></th>\n",
       "      <th></th>\n",
       "      <th></th>\n",
       "      <th></th>\n",
       "      <th></th>\n",
       "    </tr>\n",
       "  </thead>\n",
       "  <tbody>\n",
       "    <tr>\n",
       "      <th>1997-05-15 00:00:00-04:00</th>\n",
       "      <td>0.121875</td>\n",
       "      <td>0.125000</td>\n",
       "      <td>0.096354</td>\n",
       "      <td>0.097917</td>\n",
       "      <td>0.097917</td>\n",
       "      <td>1443120000</td>\n",
       "      <td>NaN</td>\n",
       "    </tr>\n",
       "    <tr>\n",
       "      <th>1997-05-16 00:00:00-04:00</th>\n",
       "      <td>0.098438</td>\n",
       "      <td>0.098958</td>\n",
       "      <td>0.085417</td>\n",
       "      <td>0.086458</td>\n",
       "      <td>0.086458</td>\n",
       "      <td>294000000</td>\n",
       "      <td>-0.117028</td>\n",
       "    </tr>\n",
       "    <tr>\n",
       "      <th>1997-05-19 00:00:00-04:00</th>\n",
       "      <td>0.088021</td>\n",
       "      <td>0.088542</td>\n",
       "      <td>0.081250</td>\n",
       "      <td>0.085417</td>\n",
       "      <td>0.085417</td>\n",
       "      <td>122136000</td>\n",
       "      <td>-0.012040</td>\n",
       "    </tr>\n",
       "    <tr>\n",
       "      <th>1997-05-20 00:00:00-04:00</th>\n",
       "      <td>0.086458</td>\n",
       "      <td>0.087500</td>\n",
       "      <td>0.081771</td>\n",
       "      <td>0.081771</td>\n",
       "      <td>0.081771</td>\n",
       "      <td>109344000</td>\n",
       "      <td>-0.042685</td>\n",
       "    </tr>\n",
       "    <tr>\n",
       "      <th>1997-05-21 00:00:00-04:00</th>\n",
       "      <td>0.081771</td>\n",
       "      <td>0.082292</td>\n",
       "      <td>0.068750</td>\n",
       "      <td>0.071354</td>\n",
       "      <td>0.071354</td>\n",
       "      <td>377064000</td>\n",
       "      <td>-0.127392</td>\n",
       "    </tr>\n",
       "  </tbody>\n",
       "</table>\n",
       "</div>"
      ],
      "text/plain": [
       "                               Open      High       Low     Close  Adj Close  \\\n",
       "Date                                                                           \n",
       "1997-05-15 00:00:00-04:00  0.121875  0.125000  0.096354  0.097917   0.097917   \n",
       "1997-05-16 00:00:00-04:00  0.098438  0.098958  0.085417  0.086458   0.086458   \n",
       "1997-05-19 00:00:00-04:00  0.088021  0.088542  0.081250  0.085417   0.085417   \n",
       "1997-05-20 00:00:00-04:00  0.086458  0.087500  0.081771  0.081771   0.081771   \n",
       "1997-05-21 00:00:00-04:00  0.081771  0.082292  0.068750  0.071354   0.071354   \n",
       "\n",
       "                               Volume  daily_ret  \n",
       "Date                                              \n",
       "1997-05-15 00:00:00-04:00  1443120000        NaN  \n",
       "1997-05-16 00:00:00-04:00   294000000  -0.117028  \n",
       "1997-05-19 00:00:00-04:00   122136000  -0.012040  \n",
       "1997-05-20 00:00:00-04:00   109344000  -0.042685  \n",
       "1997-05-21 00:00:00-04:00   377064000  -0.127392  "
      ]
     },
     "execution_count": 10,
     "metadata": {},
     "output_type": "execute_result"
    }
   ],
   "source": [
    "amzn.head()"
   ]
  },
  {
   "cell_type": "markdown",
   "metadata": {
    "pycharm": {
     "name": "#%% md\n"
    }
   },
   "source": [
    "### Task 7: Daily Netflix returns\n",
    "\n",
    "Add a column to the netflix dataframe on the daily returns."
   ]
  },
  {
   "cell_type": "code",
   "execution_count": 8,
   "metadata": {
    "pycharm": {
     "name": "#%%\n"
    }
   },
   "outputs": [],
   "source": [
    "nflx['daily_ret'] = nflx['Adj Close'].pct_change()"
   ]
  },
  {
   "cell_type": "markdown",
   "metadata": {
    "pycharm": {
     "name": "#%% md\n"
    }
   },
   "source": [
    "&nbsp;\n",
    "\n",
    "&nbsp;\n",
    "\n",
    "\n",
    "## Calculating annual and monthly returns"
   ]
  },
  {
   "cell_type": "markdown",
   "metadata": {
    "pycharm": {
     "name": "#%% md\n"
    }
   },
   "source": [
    "As you can see in the **daily_ret** column, we cannot calculate the product of these values to yield the return over several days, months or years, since these values are all close to zero."
   ]
  },
  {
   "cell_type": "code",
   "execution_count": 11,
   "metadata": {
    "pycharm": {
     "is_executing": true,
     "name": "#%%\n"
    }
   },
   "outputs": [
    {
     "data": {
      "text/html": [
       "<div>\n",
       "<style scoped>\n",
       "    .dataframe tbody tr th:only-of-type {\n",
       "        vertical-align: middle;\n",
       "    }\n",
       "\n",
       "    .dataframe tbody tr th {\n",
       "        vertical-align: top;\n",
       "    }\n",
       "\n",
       "    .dataframe thead th {\n",
       "        text-align: right;\n",
       "    }\n",
       "</style>\n",
       "<table border=\"1\" class=\"dataframe\">\n",
       "  <thead>\n",
       "    <tr style=\"text-align: right;\">\n",
       "      <th></th>\n",
       "      <th>Open</th>\n",
       "      <th>High</th>\n",
       "      <th>Low</th>\n",
       "      <th>Close</th>\n",
       "      <th>Adj Close</th>\n",
       "      <th>Volume</th>\n",
       "      <th>daily_ret</th>\n",
       "    </tr>\n",
       "    <tr>\n",
       "      <th>Date</th>\n",
       "      <th></th>\n",
       "      <th></th>\n",
       "      <th></th>\n",
       "      <th></th>\n",
       "      <th></th>\n",
       "      <th></th>\n",
       "      <th></th>\n",
       "    </tr>\n",
       "  </thead>\n",
       "  <tbody>\n",
       "    <tr>\n",
       "      <th>1997-05-15 00:00:00-04:00</th>\n",
       "      <td>0.121875</td>\n",
       "      <td>0.125000</td>\n",
       "      <td>0.096354</td>\n",
       "      <td>0.097917</td>\n",
       "      <td>0.097917</td>\n",
       "      <td>1443120000</td>\n",
       "      <td>NaN</td>\n",
       "    </tr>\n",
       "    <tr>\n",
       "      <th>1997-05-16 00:00:00-04:00</th>\n",
       "      <td>0.098438</td>\n",
       "      <td>0.098958</td>\n",
       "      <td>0.085417</td>\n",
       "      <td>0.086458</td>\n",
       "      <td>0.086458</td>\n",
       "      <td>294000000</td>\n",
       "      <td>-0.117028</td>\n",
       "    </tr>\n",
       "    <tr>\n",
       "      <th>1997-05-19 00:00:00-04:00</th>\n",
       "      <td>0.088021</td>\n",
       "      <td>0.088542</td>\n",
       "      <td>0.081250</td>\n",
       "      <td>0.085417</td>\n",
       "      <td>0.085417</td>\n",
       "      <td>122136000</td>\n",
       "      <td>-0.012040</td>\n",
       "    </tr>\n",
       "    <tr>\n",
       "      <th>1997-05-20 00:00:00-04:00</th>\n",
       "      <td>0.086458</td>\n",
       "      <td>0.087500</td>\n",
       "      <td>0.081771</td>\n",
       "      <td>0.081771</td>\n",
       "      <td>0.081771</td>\n",
       "      <td>109344000</td>\n",
       "      <td>-0.042685</td>\n",
       "    </tr>\n",
       "    <tr>\n",
       "      <th>1997-05-21 00:00:00-04:00</th>\n",
       "      <td>0.081771</td>\n",
       "      <td>0.082292</td>\n",
       "      <td>0.068750</td>\n",
       "      <td>0.071354</td>\n",
       "      <td>0.071354</td>\n",
       "      <td>377064000</td>\n",
       "      <td>-0.127392</td>\n",
       "    </tr>\n",
       "  </tbody>\n",
       "</table>\n",
       "</div>"
      ],
      "text/plain": [
       "                               Open      High       Low     Close  Adj Close  \\\n",
       "Date                                                                           \n",
       "1997-05-15 00:00:00-04:00  0.121875  0.125000  0.096354  0.097917   0.097917   \n",
       "1997-05-16 00:00:00-04:00  0.098438  0.098958  0.085417  0.086458   0.086458   \n",
       "1997-05-19 00:00:00-04:00  0.088021  0.088542  0.081250  0.085417   0.085417   \n",
       "1997-05-20 00:00:00-04:00  0.086458  0.087500  0.081771  0.081771   0.081771   \n",
       "1997-05-21 00:00:00-04:00  0.081771  0.082292  0.068750  0.071354   0.071354   \n",
       "\n",
       "                               Volume  daily_ret  \n",
       "Date                                              \n",
       "1997-05-15 00:00:00-04:00  1443120000        NaN  \n",
       "1997-05-16 00:00:00-04:00   294000000  -0.117028  \n",
       "1997-05-19 00:00:00-04:00   122136000  -0.012040  \n",
       "1997-05-20 00:00:00-04:00   109344000  -0.042685  \n",
       "1997-05-21 00:00:00-04:00   377064000  -0.127392  "
      ]
     },
     "execution_count": 11,
     "metadata": {},
     "output_type": "execute_result"
    }
   ],
   "source": [
    "amzn.head()"
   ]
  },
  {
   "cell_type": "code",
   "execution_count": 12,
   "metadata": {
    "pycharm": {
     "is_executing": true,
     "name": "#%%\n"
    }
   },
   "outputs": [
    {
     "data": {
      "text/plain": [
       "-0.2340451143747122"
      ]
     },
     "execution_count": 12,
     "metadata": {},
     "output_type": "execute_result"
    }
   ],
   "source": [
    "amzn_ret_1 = amzn['daily_ret'][:11] + 1\n",
    "amzn_ret_1.prod() - 1"
   ]
  },
  {
   "cell_type": "markdown",
   "metadata": {
    "pycharm": {
     "name": "#%% md\n"
    }
   },
   "source": [
    "Trying to calculate the return rate for May 1997 using the `.prod()` method on the **daily_ret** values return a number very close to 0."
   ]
  },
  {
   "cell_type": "code",
   "execution_count": 13,
   "metadata": {
    "pycharm": {
     "is_executing": true,
     "name": "#%%\n"
    }
   },
   "outputs": [
    {
     "data": {
      "text/plain": [
       "1.3448147356182729e-15"
      ]
     },
     "execution_count": 13,
     "metadata": {},
     "output_type": "execute_result"
    }
   ],
   "source": [
    "amzn['daily_ret'][:11].prod()"
   ]
  },
  {
   "cell_type": "markdown",
   "metadata": {
    "pycharm": {
     "name": "#%% md\n"
    }
   },
   "source": [
    "We first have to add 1 to all values, calculate the product and then substract 1. \n",
    "\n",
    "We start by creating a new column **daily_ret_1**."
   ]
  },
  {
   "cell_type": "code",
   "execution_count": 14,
   "metadata": {
    "pycharm": {
     "is_executing": true,
     "name": "#%%\n"
    },
    "scrolled": true
   },
   "outputs": [
    {
     "data": {
      "text/html": [
       "<div>\n",
       "<style scoped>\n",
       "    .dataframe tbody tr th:only-of-type {\n",
       "        vertical-align: middle;\n",
       "    }\n",
       "\n",
       "    .dataframe tbody tr th {\n",
       "        vertical-align: top;\n",
       "    }\n",
       "\n",
       "    .dataframe thead th {\n",
       "        text-align: right;\n",
       "    }\n",
       "</style>\n",
       "<table border=\"1\" class=\"dataframe\">\n",
       "  <thead>\n",
       "    <tr style=\"text-align: right;\">\n",
       "      <th></th>\n",
       "      <th>Open</th>\n",
       "      <th>High</th>\n",
       "      <th>Low</th>\n",
       "      <th>Close</th>\n",
       "      <th>Adj Close</th>\n",
       "      <th>Volume</th>\n",
       "      <th>daily_ret</th>\n",
       "      <th>daily_ret_1</th>\n",
       "    </tr>\n",
       "    <tr>\n",
       "      <th>Date</th>\n",
       "      <th></th>\n",
       "      <th></th>\n",
       "      <th></th>\n",
       "      <th></th>\n",
       "      <th></th>\n",
       "      <th></th>\n",
       "      <th></th>\n",
       "      <th></th>\n",
       "    </tr>\n",
       "  </thead>\n",
       "  <tbody>\n",
       "    <tr>\n",
       "      <th>1997-05-15 00:00:00-04:00</th>\n",
       "      <td>0.121875</td>\n",
       "      <td>0.125000</td>\n",
       "      <td>0.096354</td>\n",
       "      <td>0.097917</td>\n",
       "      <td>0.097917</td>\n",
       "      <td>1443120000</td>\n",
       "      <td>NaN</td>\n",
       "      <td>NaN</td>\n",
       "    </tr>\n",
       "    <tr>\n",
       "      <th>1997-05-16 00:00:00-04:00</th>\n",
       "      <td>0.098438</td>\n",
       "      <td>0.098958</td>\n",
       "      <td>0.085417</td>\n",
       "      <td>0.086458</td>\n",
       "      <td>0.086458</td>\n",
       "      <td>294000000</td>\n",
       "      <td>-0.117028</td>\n",
       "      <td>0.882972</td>\n",
       "    </tr>\n",
       "    <tr>\n",
       "      <th>1997-05-19 00:00:00-04:00</th>\n",
       "      <td>0.088021</td>\n",
       "      <td>0.088542</td>\n",
       "      <td>0.081250</td>\n",
       "      <td>0.085417</td>\n",
       "      <td>0.085417</td>\n",
       "      <td>122136000</td>\n",
       "      <td>-0.012040</td>\n",
       "      <td>0.987960</td>\n",
       "    </tr>\n",
       "    <tr>\n",
       "      <th>1997-05-20 00:00:00-04:00</th>\n",
       "      <td>0.086458</td>\n",
       "      <td>0.087500</td>\n",
       "      <td>0.081771</td>\n",
       "      <td>0.081771</td>\n",
       "      <td>0.081771</td>\n",
       "      <td>109344000</td>\n",
       "      <td>-0.042685</td>\n",
       "      <td>0.957315</td>\n",
       "    </tr>\n",
       "    <tr>\n",
       "      <th>1997-05-21 00:00:00-04:00</th>\n",
       "      <td>0.081771</td>\n",
       "      <td>0.082292</td>\n",
       "      <td>0.068750</td>\n",
       "      <td>0.071354</td>\n",
       "      <td>0.071354</td>\n",
       "      <td>377064000</td>\n",
       "      <td>-0.127392</td>\n",
       "      <td>0.872608</td>\n",
       "    </tr>\n",
       "  </tbody>\n",
       "</table>\n",
       "</div>"
      ],
      "text/plain": [
       "                               Open      High       Low     Close  Adj Close  \\\n",
       "Date                                                                           \n",
       "1997-05-15 00:00:00-04:00  0.121875  0.125000  0.096354  0.097917   0.097917   \n",
       "1997-05-16 00:00:00-04:00  0.098438  0.098958  0.085417  0.086458   0.086458   \n",
       "1997-05-19 00:00:00-04:00  0.088021  0.088542  0.081250  0.085417   0.085417   \n",
       "1997-05-20 00:00:00-04:00  0.086458  0.087500  0.081771  0.081771   0.081771   \n",
       "1997-05-21 00:00:00-04:00  0.081771  0.082292  0.068750  0.071354   0.071354   \n",
       "\n",
       "                               Volume  daily_ret  daily_ret_1  \n",
       "Date                                                           \n",
       "1997-05-15 00:00:00-04:00  1443120000        NaN          NaN  \n",
       "1997-05-16 00:00:00-04:00   294000000  -0.117028     0.882972  \n",
       "1997-05-19 00:00:00-04:00   122136000  -0.012040     0.987960  \n",
       "1997-05-20 00:00:00-04:00   109344000  -0.042685     0.957315  \n",
       "1997-05-21 00:00:00-04:00   377064000  -0.127392     0.872608  "
      ]
     },
     "execution_count": 14,
     "metadata": {},
     "output_type": "execute_result"
    }
   ],
   "source": [
    "amzn['daily_ret_1'] = amzn['daily_ret'] + 1\n",
    "amzn.head()"
   ]
  },
  {
   "cell_type": "markdown",
   "metadata": {
    "pycharm": {
     "name": "#%% md\n"
    }
   },
   "source": [
    "If we now calculate the return rate for May 1997, we can see that the price decreased by 23.40 %"
   ]
  },
  {
   "cell_type": "code",
   "execution_count": 15,
   "metadata": {
    "pycharm": {
     "is_executing": true,
     "name": "#%%\n"
    }
   },
   "outputs": [
    {
     "data": {
      "text/plain": [
       "-0.2340451143747122"
      ]
     },
     "execution_count": 15,
     "metadata": {},
     "output_type": "execute_result"
    }
   ],
   "source": [
    "ret_05_97 = amzn['daily_ret_1'][:11].prod()\n",
    "ret_05_97 -= 1\n",
    "ret_05_97"
   ]
  },
  {
   "cell_type": "markdown",
   "metadata": {
    "pycharm": {
     "name": "#%% md\n"
    }
   },
   "source": [
    "To calculate *annual* returns, we will have to calculate the product of the **daily_ret_1** column separately for each year. In order to achieve this, we have to group the **amzn** dataframe based on the dates into separate dataframes for each year. This can be done with the `.resample()` method, which is called on the dataframe. In the example below, we split the dataframe into smaller dataframes for each year. The `'A'` stands for annual."
   ]
  },
  {
   "cell_type": "code",
   "execution_count": 16,
   "metadata": {
    "pycharm": {
     "is_executing": true,
     "name": "#%%\n"
    }
   },
   "outputs": [
    {
     "data": {
      "text/plain": [
       "<pandas.core.resample.DatetimeIndexResampler object at 0x000001723E4E6208>"
      ]
     },
     "execution_count": 16,
     "metadata": {},
     "output_type": "execute_result"
    }
   ],
   "source": [
    "# split amzn dataframe into smaller dataframes for each year\n",
    "amzn.resample('1A')"
   ]
  },
  {
   "cell_type": "code",
   "execution_count": 17,
   "metadata": {
    "pycharm": {
     "is_executing": true,
     "name": "#%%\n"
    }
   },
   "outputs": [
    {
     "data": {
      "text/plain": [
       "<pandas.core.resample.DatetimeIndexResampler object at 0x0000017241353B70>"
      ]
     },
     "execution_count": 17,
     "metadata": {},
     "output_type": "execute_result"
    }
   ],
   "source": [
    "# split amzn dataframe into smaller dataframes for each two years\n",
    "amzn.resample('2A')"
   ]
  },
  {
   "cell_type": "markdown",
   "metadata": {
    "pycharm": {
     "name": "#%% md\n"
    }
   },
   "source": [
    "In order to calculate the product of the daily_ret_1 column values for each year, we add `['daily_ret_1].prod()`.\n",
    "\n",
    "This code will resample the complete **amzn** dataframe into subsets for each year, select the values from the daily_ret_1 column and aggregate these values by calculating their product.\n",
    "\n",
    "As you can see below, this will generate the annual returns."
   ]
  },
  {
   "cell_type": "code",
   "execution_count": 18,
   "metadata": {
    "pycharm": {
     "is_executing": true,
     "name": "#%%\n"
    }
   },
   "outputs": [
    {
     "data": {
      "text/plain": [
       "Date\n",
       "1997-12-31 00:00:00-05:00     2.563825\n",
       "1998-12-31 00:00:00-05:00    10.663885\n",
       "1999-12-31 00:00:00-05:00     1.421790\n",
       "2000-12-31 00:00:00-05:00     0.204433\n",
       "2001-12-31 00:00:00-05:00     0.695261\n",
       "2002-12-31 00:00:00-05:00     1.745841\n",
       "2003-12-31 00:00:00-05:00     2.785601\n",
       "2004-12-31 00:00:00-05:00     0.841695\n",
       "2005-12-31 00:00:00-05:00     1.064574\n",
       "2006-12-31 00:00:00-05:00     0.836903\n",
       "2007-12-31 00:00:00-05:00     2.347694\n",
       "2008-12-31 00:00:00-05:00     0.553541\n",
       "2009-12-31 00:00:00-05:00     2.623245\n",
       "2010-12-31 00:00:00-05:00     1.338091\n",
       "2011-12-31 00:00:00-05:00     0.961667\n",
       "2012-12-31 00:00:00-05:00     1.449278\n",
       "2013-12-31 00:00:00-05:00     1.589628\n",
       "2014-12-31 00:00:00-05:00     0.778229\n",
       "2015-12-31 00:00:00-05:00     2.177831\n",
       "2016-12-31 00:00:00-05:00     1.109456\n",
       "2017-12-31 00:00:00-05:00     1.559564\n",
       "2018-12-31 00:00:00-05:00     1.284317\n",
       "2019-12-31 00:00:00-05:00     1.230277\n",
       "2020-12-31 00:00:00-05:00     1.762561\n",
       "2021-12-31 00:00:00-05:00     1.023768\n",
       "2022-12-31 00:00:00-05:00     0.503848\n",
       "2023-12-31 00:00:00-05:00     1.146667\n",
       "Freq: A-DEC, Name: daily_ret_1, dtype: float64"
      ]
     },
     "execution_count": 18,
     "metadata": {},
     "output_type": "execute_result"
    }
   ],
   "source": [
    "# calculating the annual returns using .resample() and .prod()\n",
    "annual_returns = amzn.resample('1A')['daily_ret_1'].prod()\n",
    "annual_returns"
   ]
  },
  {
   "cell_type": "markdown",
   "metadata": {
    "pycharm": {
     "name": "#%% md\n"
    }
   },
   "source": [
    "In order to represent the annual returns as a signed rate, just as we represent the daily returns, we have to subtract one from them."
   ]
  },
  {
   "cell_type": "code",
   "execution_count": 19,
   "metadata": {
    "pycharm": {
     "is_executing": true,
     "name": "#%%\n"
    }
   },
   "outputs": [
    {
     "data": {
      "text/plain": [
       "Date\n",
       "1997-12-31 00:00:00-05:00    1.563825\n",
       "1998-12-31 00:00:00-05:00    9.663885\n",
       "1999-12-31 00:00:00-05:00    0.421790\n",
       "2000-12-31 00:00:00-05:00   -0.795567\n",
       "2001-12-31 00:00:00-05:00   -0.304739\n",
       "2002-12-31 00:00:00-05:00    0.745841\n",
       "2003-12-31 00:00:00-05:00    1.785601\n",
       "2004-12-31 00:00:00-05:00   -0.158305\n",
       "2005-12-31 00:00:00-05:00    0.064574\n",
       "2006-12-31 00:00:00-05:00   -0.163097\n",
       "2007-12-31 00:00:00-05:00    1.347694\n",
       "2008-12-31 00:00:00-05:00   -0.446459\n",
       "2009-12-31 00:00:00-05:00    1.623245\n",
       "2010-12-31 00:00:00-05:00    0.338091\n",
       "2011-12-31 00:00:00-05:00   -0.038333\n",
       "2012-12-31 00:00:00-05:00    0.449278\n",
       "2013-12-31 00:00:00-05:00    0.589628\n",
       "2014-12-31 00:00:00-05:00   -0.221771\n",
       "2015-12-31 00:00:00-05:00    1.177831\n",
       "2016-12-31 00:00:00-05:00    0.109456\n",
       "2017-12-31 00:00:00-05:00    0.559564\n",
       "2018-12-31 00:00:00-05:00    0.284317\n",
       "2019-12-31 00:00:00-05:00    0.230277\n",
       "2020-12-31 00:00:00-05:00    0.762561\n",
       "2021-12-31 00:00:00-05:00    0.023768\n",
       "2022-12-31 00:00:00-05:00   -0.496152\n",
       "2023-12-31 00:00:00-05:00    0.146667\n",
       "Freq: A-DEC, Name: daily_ret_1, dtype: float64"
      ]
     },
     "execution_count": 19,
     "metadata": {},
     "output_type": "execute_result"
    }
   ],
   "source": [
    "annual_returns = annual_returns - 1\n",
    "annual_returns"
   ]
  },
  {
   "cell_type": "markdown",
   "metadata": {
    "pycharm": {
     "name": "#%% md\n"
    }
   },
   "source": [
    "We can adapt the code from before to calculate the monthly return rate by changing the value for the resample method from `'1A'` to `'1M'`. \n",
    "\n",
    "We resample the **amzn** dataframe to smaller subsets for each month, select the values from the daily_ret_1 column and calculate the product.\n",
    "\n",
    "The values have to be reduced by 1 to reflect the signed rate."
   ]
  },
  {
   "cell_type": "code",
   "execution_count": 20,
   "metadata": {
    "pycharm": {
     "is_executing": true,
     "name": "#%%\n"
    }
   },
   "outputs": [
    {
     "data": {
      "text/plain": [
       "Date\n",
       "1997-05-31 00:00:00-04:00   -0.234045\n",
       "1997-06-30 00:00:00-04:00    0.027773\n",
       "1997-07-31 00:00:00-04:00    0.554065\n",
       "1997-08-31 00:00:00-04:00   -0.023916\n",
       "1997-09-30 00:00:00-04:00    0.855235\n",
       "                               ...   \n",
       "2022-09-30 00:00:00-04:00   -0.108622\n",
       "2022-10-31 00:00:00-04:00   -0.093451\n",
       "2022-11-30 00:00:00-05:00   -0.057595\n",
       "2022-12-31 00:00:00-05:00   -0.129894\n",
       "2023-01-31 00:00:00-05:00    0.146667\n",
       "Freq: M, Name: daily_ret_1, Length: 309, dtype: float64"
      ]
     },
     "execution_count": 20,
     "metadata": {},
     "output_type": "execute_result"
    }
   ],
   "source": [
    "# split amzn dataframe into smaller dataframes for each year\n",
    "monthly_returns = amzn.resample('1M')['daily_ret_1'].prod()\n",
    "monthly_returns -= 1\n",
    "monthly_returns"
   ]
  },
  {
   "cell_type": "markdown",
   "metadata": {
    "pycharm": {
     "name": "#%% md\n"
    }
   },
   "source": [
    "&nbsp;\n",
    "\n",
    "### Task 8: Calculating annual and monthly return rates\n",
    "\n",
    "It is now your turn to carry out the same steps to calculate the annual and monthly return rates for Netflix.\n",
    "\n",
    "1. Create a new column **daily_ret_1** to add 1 to the daily returns\n",
    "2. Calculate the monthly returns.  \n",
    "3. Calculate the annual returns."
   ]
  },
  {
   "cell_type": "code",
   "execution_count": 9,
   "metadata": {
    "pycharm": {
     "name": "#%%\n"
    }
   },
   "outputs": [
    {
     "data": {
      "text/plain": [
       "Date\n",
       "2009-01-31 00:00:00-05:00    0.209910\n",
       "2009-02-28 00:00:00-05:00    0.002767\n",
       "2009-03-31 00:00:00-04:00    0.184327\n",
       "2009-04-30 00:00:00-04:00    0.055685\n",
       "2009-05-31 00:00:00-04:00   -0.129993\n",
       "                               ...   \n",
       "2022-09-30 00:00:00-04:00    0.053140\n",
       "2022-10-31 00:00:00-04:00    0.239721\n",
       "2022-11-30 00:00:00-05:00    0.046766\n",
       "2022-12-31 00:00:00-05:00   -0.034857\n",
       "2023-01-31 00:00:00-05:00    0.233824\n",
       "Freq: M, Name: daily_ret_1, Length: 169, dtype: float64"
      ]
     },
     "metadata": {},
     "output_type": "display_data"
    },
    {
     "data": {
      "text/plain": [
       "Date\n",
       "2009-12-31 00:00:00-05:00    0.844325\n",
       "2010-12-31 00:00:00-05:00    2.189327\n",
       "2011-12-31 00:00:00-05:00   -0.605635\n",
       "2012-12-31 00:00:00-05:00    0.336268\n",
       "2013-12-31 00:00:00-05:00    2.976347\n",
       "2014-12-31 00:00:00-05:00   -0.072141\n",
       "2015-12-31 00:00:00-05:00    1.343784\n",
       "2016-12-31 00:00:00-05:00    0.082357\n",
       "2017-12-31 00:00:00-05:00    0.550565\n",
       "2018-12-31 00:00:00-05:00    0.394353\n",
       "2019-12-31 00:00:00-05:00    0.208884\n",
       "2020-12-31 00:00:00-05:00    0.671138\n",
       "2021-12-31 00:00:00-05:00    0.114124\n",
       "2022-12-31 00:00:00-05:00   -0.510524\n",
       "2023-12-31 00:00:00-05:00    0.233824\n",
       "Freq: A-DEC, Name: daily_ret_1, dtype: float64"
      ]
     },
     "metadata": {},
     "output_type": "display_data"
    }
   ],
   "source": [
    "nflx['daily_ret_1'] = nflx['daily_ret'] + 1\n",
    "\n",
    "monthly_ret = nflx['daily_ret_1'].resample('1M').prod() - 1\n",
    "display(monthly_ret)\n",
    "\n",
    "annual_ret = nflx['daily_ret_1'].resample('1A').prod() - 1\n",
    "display(annual_ret)"
   ]
  },
  {
   "cell_type": "markdown",
   "metadata": {
    "pycharm": {
     "name": "#%% md\n"
    }
   },
   "source": [
    "&nbsp;\n",
    "\n",
    "## Calculating new columns for the monthly return rates"
   ]
  },
  {
   "cell_type": "markdown",
   "metadata": {
    "pycharm": {
     "name": "#%% md\n"
    }
   },
   "source": [
    "The way we have calculate the monthly return rates, we wouldn't be able to add them to the dataframe with the daily returns since we aggregated the data to only one return value per month, whereas the original dataframe has a row for each day.\n",
    "\n",
    "The `.transform()` method enables us to replicate the monthly returns for as many times as there are days in each different month.\n",
    "\n",
    "Let us start with the annual returns and compare the output when using `.prod()` and `.transform('prod')`."
   ]
  },
  {
   "cell_type": "code",
   "execution_count": 21,
   "metadata": {
    "pycharm": {
     "is_executing": true,
     "name": "#%%\n"
    }
   },
   "outputs": [
    {
     "data": {
      "text/plain": [
       "Date\n",
       "1997-12-31 00:00:00-05:00     2.563825\n",
       "1998-12-31 00:00:00-05:00    10.663885\n",
       "1999-12-31 00:00:00-05:00     1.421790\n",
       "2000-12-31 00:00:00-05:00     0.204433\n",
       "2001-12-31 00:00:00-05:00     0.695261\n",
       "2002-12-31 00:00:00-05:00     1.745841\n",
       "2003-12-31 00:00:00-05:00     2.785601\n",
       "2004-12-31 00:00:00-05:00     0.841695\n",
       "2005-12-31 00:00:00-05:00     1.064574\n",
       "2006-12-31 00:00:00-05:00     0.836903\n",
       "2007-12-31 00:00:00-05:00     2.347694\n",
       "2008-12-31 00:00:00-05:00     0.553541\n",
       "2009-12-31 00:00:00-05:00     2.623245\n",
       "2010-12-31 00:00:00-05:00     1.338091\n",
       "2011-12-31 00:00:00-05:00     0.961667\n",
       "2012-12-31 00:00:00-05:00     1.449278\n",
       "2013-12-31 00:00:00-05:00     1.589628\n",
       "2014-12-31 00:00:00-05:00     0.778229\n",
       "2015-12-31 00:00:00-05:00     2.177831\n",
       "2016-12-31 00:00:00-05:00     1.109456\n",
       "2017-12-31 00:00:00-05:00     1.559564\n",
       "2018-12-31 00:00:00-05:00     1.284317\n",
       "2019-12-31 00:00:00-05:00     1.230277\n",
       "2020-12-31 00:00:00-05:00     1.762561\n",
       "2021-12-31 00:00:00-05:00     1.023768\n",
       "2022-12-31 00:00:00-05:00     0.503848\n",
       "2023-12-31 00:00:00-05:00     1.146667\n",
       "Freq: A-DEC, Name: daily_ret_1, dtype: float64"
      ]
     },
     "execution_count": 21,
     "metadata": {},
     "output_type": "execute_result"
    }
   ],
   "source": [
    "amzn.resample('1A')['daily_ret_1'].prod()"
   ]
  },
  {
   "cell_type": "code",
   "execution_count": 22,
   "metadata": {
    "pycharm": {
     "is_executing": true,
     "name": "#%%\n"
    },
    "scrolled": true
   },
   "outputs": [
    {
     "data": {
      "text/plain": [
       "Date\n",
       "1997-05-15 00:00:00-04:00    2.563825\n",
       "1997-05-16 00:00:00-04:00    2.563825\n",
       "1997-05-19 00:00:00-04:00    2.563825\n",
       "1997-05-20 00:00:00-04:00    2.563825\n",
       "1997-05-21 00:00:00-04:00    2.563825\n",
       "                               ...   \n",
       "2023-01-18 00:00:00-05:00    1.146667\n",
       "2023-01-19 00:00:00-05:00    1.146667\n",
       "2023-01-20 00:00:00-05:00    1.146667\n",
       "2023-01-23 00:00:00-05:00    1.146667\n",
       "2023-01-24 00:00:00-05:00    1.146667\n",
       "Name: daily_ret_1, Length: 6466, dtype: float64"
      ]
     },
     "execution_count": 22,
     "metadata": {},
     "output_type": "execute_result"
    }
   ],
   "source": [
    "amzn.resample('1A')['daily_ret_1'].transform('prod')"
   ]
  },
  {
   "cell_type": "markdown",
   "metadata": {
    "pycharm": {
     "name": "#%% md\n"
    }
   },
   "source": [
    "While using `.prod()` returns the return rate for each year only once, `.transform('prod')` replicates the annual return rate for as many days as there are in each year.\n",
    "\n",
    "The last row shows us that there are 6465 values when using `.transform('prod')`. This is exactly as many rows the original dataframe has."
   ]
  },
  {
   "cell_type": "code",
   "execution_count": 23,
   "metadata": {
    "pycharm": {
     "is_executing": true,
     "name": "#%%\n"
    }
   },
   "outputs": [
    {
     "data": {
      "text/plain": [
       "6466"
      ]
     },
     "execution_count": 23,
     "metadata": {},
     "output_type": "execute_result"
    }
   ],
   "source": [
    "len(amzn)"
   ]
  },
  {
   "cell_type": "markdown",
   "metadata": {
    "pycharm": {
     "name": "#%% md\n"
    }
   },
   "source": [
    "By using `.transform('prod')` the monthly return rates will directly map onto the rows in the original dataframe, and we can use these values to create a new column for the monthly returns."
   ]
  },
  {
   "cell_type": "code",
   "execution_count": 25,
   "metadata": {
    "pycharm": {
     "name": "#%%\n"
    }
   },
   "outputs": [],
   "source": [
    "amzn['monthly_ret'] = amzn.resample('1M')['daily_ret_1'].transform('prod')"
   ]
  },
  {
   "cell_type": "markdown",
   "metadata": {
    "pycharm": {
     "name": "#%% md\n"
    }
   },
   "source": [
    "Below you can see how this has created a new column **monthly_ret** with the product of the values from the **daily_ret_1** column for each month. "
   ]
  },
  {
   "cell_type": "markdown",
   "metadata": {
    "pycharm": {
     "name": "#%% md\n"
    }
   },
   "source": [
    "<img src=\"https://www.dropbox.com/s/kzd1fgatnu8neki/groupby_transform.png?raw=1\">"
   ]
  },
  {
   "cell_type": "markdown",
   "metadata": {
    "pycharm": {
     "name": "#%% md\n"
    }
   },
   "source": [
    "To change these values from a multiplier to a signed rate, similar to the **daily_ret** column, we have to subtract 1."
   ]
  },
  {
   "cell_type": "code",
   "execution_count": 26,
   "metadata": {
    "pycharm": {
     "name": "#%%\n"
    }
   },
   "outputs": [],
   "source": [
    "amzn['monthly_ret'] = amzn['monthly_ret'] - 1"
   ]
  },
  {
   "cell_type": "markdown",
   "metadata": {
    "pycharm": {
     "name": "#%% md\n"
    }
   },
   "source": [
    "We can see now that in the first month of Amazon entering the stock market, the stock lost 23.43%. In the second month, the stock gained 2.80%."
   ]
  },
  {
   "cell_type": "code",
   "execution_count": 27,
   "metadata": {
    "pycharm": {
     "is_executing": true,
     "name": "#%%\n"
    }
   },
   "outputs": [
    {
     "data": {
      "text/html": [
       "<div>\n",
       "<style scoped>\n",
       "    .dataframe tbody tr th:only-of-type {\n",
       "        vertical-align: middle;\n",
       "    }\n",
       "\n",
       "    .dataframe tbody tr th {\n",
       "        vertical-align: top;\n",
       "    }\n",
       "\n",
       "    .dataframe thead th {\n",
       "        text-align: right;\n",
       "    }\n",
       "</style>\n",
       "<table border=\"1\" class=\"dataframe\">\n",
       "  <thead>\n",
       "    <tr style=\"text-align: right;\">\n",
       "      <th></th>\n",
       "      <th>Open</th>\n",
       "      <th>High</th>\n",
       "      <th>Low</th>\n",
       "      <th>Close</th>\n",
       "      <th>Adj Close</th>\n",
       "      <th>Volume</th>\n",
       "      <th>daily_ret</th>\n",
       "      <th>daily_ret_1</th>\n",
       "      <th>monthly_ret</th>\n",
       "    </tr>\n",
       "    <tr>\n",
       "      <th>Date</th>\n",
       "      <th></th>\n",
       "      <th></th>\n",
       "      <th></th>\n",
       "      <th></th>\n",
       "      <th></th>\n",
       "      <th></th>\n",
       "      <th></th>\n",
       "      <th></th>\n",
       "      <th></th>\n",
       "    </tr>\n",
       "  </thead>\n",
       "  <tbody>\n",
       "    <tr>\n",
       "      <th>1997-05-15 00:00:00-04:00</th>\n",
       "      <td>0.121875</td>\n",
       "      <td>0.125000</td>\n",
       "      <td>0.096354</td>\n",
       "      <td>0.097917</td>\n",
       "      <td>0.097917</td>\n",
       "      <td>1443120000</td>\n",
       "      <td>NaN</td>\n",
       "      <td>NaN</td>\n",
       "      <td>-0.234045</td>\n",
       "    </tr>\n",
       "    <tr>\n",
       "      <th>1997-05-16 00:00:00-04:00</th>\n",
       "      <td>0.098438</td>\n",
       "      <td>0.098958</td>\n",
       "      <td>0.085417</td>\n",
       "      <td>0.086458</td>\n",
       "      <td>0.086458</td>\n",
       "      <td>294000000</td>\n",
       "      <td>-0.117028</td>\n",
       "      <td>0.882972</td>\n",
       "      <td>-0.234045</td>\n",
       "    </tr>\n",
       "    <tr>\n",
       "      <th>1997-05-19 00:00:00-04:00</th>\n",
       "      <td>0.088021</td>\n",
       "      <td>0.088542</td>\n",
       "      <td>0.081250</td>\n",
       "      <td>0.085417</td>\n",
       "      <td>0.085417</td>\n",
       "      <td>122136000</td>\n",
       "      <td>-0.012040</td>\n",
       "      <td>0.987960</td>\n",
       "      <td>-0.234045</td>\n",
       "    </tr>\n",
       "    <tr>\n",
       "      <th>1997-05-20 00:00:00-04:00</th>\n",
       "      <td>0.086458</td>\n",
       "      <td>0.087500</td>\n",
       "      <td>0.081771</td>\n",
       "      <td>0.081771</td>\n",
       "      <td>0.081771</td>\n",
       "      <td>109344000</td>\n",
       "      <td>-0.042685</td>\n",
       "      <td>0.957315</td>\n",
       "      <td>-0.234045</td>\n",
       "    </tr>\n",
       "    <tr>\n",
       "      <th>1997-05-21 00:00:00-04:00</th>\n",
       "      <td>0.081771</td>\n",
       "      <td>0.082292</td>\n",
       "      <td>0.068750</td>\n",
       "      <td>0.071354</td>\n",
       "      <td>0.071354</td>\n",
       "      <td>377064000</td>\n",
       "      <td>-0.127392</td>\n",
       "      <td>0.872608</td>\n",
       "      <td>-0.234045</td>\n",
       "    </tr>\n",
       "    <tr>\n",
       "      <th>1997-05-22 00:00:00-04:00</th>\n",
       "      <td>0.071875</td>\n",
       "      <td>0.072396</td>\n",
       "      <td>0.065625</td>\n",
       "      <td>0.069792</td>\n",
       "      <td>0.069792</td>\n",
       "      <td>235536000</td>\n",
       "      <td>-0.021891</td>\n",
       "      <td>0.978109</td>\n",
       "      <td>-0.234045</td>\n",
       "    </tr>\n",
       "    <tr>\n",
       "      <th>1997-05-23 00:00:00-04:00</th>\n",
       "      <td>0.070313</td>\n",
       "      <td>0.076042</td>\n",
       "      <td>0.066667</td>\n",
       "      <td>0.075000</td>\n",
       "      <td>0.075000</td>\n",
       "      <td>318744000</td>\n",
       "      <td>0.074622</td>\n",
       "      <td>1.074622</td>\n",
       "      <td>-0.234045</td>\n",
       "    </tr>\n",
       "    <tr>\n",
       "      <th>1997-05-27 00:00:00-04:00</th>\n",
       "      <td>0.075521</td>\n",
       "      <td>0.082292</td>\n",
       "      <td>0.072917</td>\n",
       "      <td>0.079167</td>\n",
       "      <td>0.079167</td>\n",
       "      <td>173952000</td>\n",
       "      <td>0.055560</td>\n",
       "      <td>1.055560</td>\n",
       "      <td>-0.234045</td>\n",
       "    </tr>\n",
       "    <tr>\n",
       "      <th>1997-05-28 00:00:00-04:00</th>\n",
       "      <td>0.081250</td>\n",
       "      <td>0.081771</td>\n",
       "      <td>0.076563</td>\n",
       "      <td>0.076563</td>\n",
       "      <td>0.076563</td>\n",
       "      <td>91488000</td>\n",
       "      <td>-0.032892</td>\n",
       "      <td>0.967108</td>\n",
       "      <td>-0.234045</td>\n",
       "    </tr>\n",
       "    <tr>\n",
       "      <th>1997-05-29 00:00:00-04:00</th>\n",
       "      <td>0.077083</td>\n",
       "      <td>0.077083</td>\n",
       "      <td>0.073958</td>\n",
       "      <td>0.075260</td>\n",
       "      <td>0.075260</td>\n",
       "      <td>69456000</td>\n",
       "      <td>-0.017019</td>\n",
       "      <td>0.982981</td>\n",
       "      <td>-0.234045</td>\n",
       "    </tr>\n",
       "    <tr>\n",
       "      <th>1997-05-30 00:00:00-04:00</th>\n",
       "      <td>0.075000</td>\n",
       "      <td>0.075521</td>\n",
       "      <td>0.073958</td>\n",
       "      <td>0.075000</td>\n",
       "      <td>0.075000</td>\n",
       "      <td>51888000</td>\n",
       "      <td>-0.003455</td>\n",
       "      <td>0.996545</td>\n",
       "      <td>-0.234045</td>\n",
       "    </tr>\n",
       "    <tr>\n",
       "      <th>1997-06-02 00:00:00-04:00</th>\n",
       "      <td>0.075521</td>\n",
       "      <td>0.076563</td>\n",
       "      <td>0.075000</td>\n",
       "      <td>0.075521</td>\n",
       "      <td>0.075521</td>\n",
       "      <td>11832000</td>\n",
       "      <td>0.006947</td>\n",
       "      <td>1.006947</td>\n",
       "      <td>0.027773</td>\n",
       "    </tr>\n",
       "    <tr>\n",
       "      <th>1997-06-03 00:00:00-04:00</th>\n",
       "      <td>0.076563</td>\n",
       "      <td>0.076563</td>\n",
       "      <td>0.073958</td>\n",
       "      <td>0.073958</td>\n",
       "      <td>0.073958</td>\n",
       "      <td>23664000</td>\n",
       "      <td>-0.020696</td>\n",
       "      <td>0.979304</td>\n",
       "      <td>0.027773</td>\n",
       "    </tr>\n",
       "    <tr>\n",
       "      <th>1997-06-04 00:00:00-04:00</th>\n",
       "      <td>0.073958</td>\n",
       "      <td>0.074479</td>\n",
       "      <td>0.069792</td>\n",
       "      <td>0.070833</td>\n",
       "      <td>0.070833</td>\n",
       "      <td>61608000</td>\n",
       "      <td>-0.042254</td>\n",
       "      <td>0.957746</td>\n",
       "      <td>0.027773</td>\n",
       "    </tr>\n",
       "    <tr>\n",
       "      <th>1997-06-05 00:00:00-04:00</th>\n",
       "      <td>0.070833</td>\n",
       "      <td>0.077083</td>\n",
       "      <td>0.068750</td>\n",
       "      <td>0.077083</td>\n",
       "      <td>0.077083</td>\n",
       "      <td>113448000</td>\n",
       "      <td>0.088236</td>\n",
       "      <td>1.088236</td>\n",
       "      <td>0.027773</td>\n",
       "    </tr>\n",
       "    <tr>\n",
       "      <th>1997-06-06 00:00:00-04:00</th>\n",
       "      <td>0.075781</td>\n",
       "      <td>0.085417</td>\n",
       "      <td>0.075521</td>\n",
       "      <td>0.082813</td>\n",
       "      <td>0.082813</td>\n",
       "      <td>156144000</td>\n",
       "      <td>0.074335</td>\n",
       "      <td>1.074335</td>\n",
       "      <td>0.027773</td>\n",
       "    </tr>\n",
       "    <tr>\n",
       "      <th>1997-06-09 00:00:00-04:00</th>\n",
       "      <td>0.082813</td>\n",
       "      <td>0.085417</td>\n",
       "      <td>0.082813</td>\n",
       "      <td>0.084375</td>\n",
       "      <td>0.084375</td>\n",
       "      <td>47040000</td>\n",
       "      <td>0.018862</td>\n",
       "      <td>1.018862</td>\n",
       "      <td>0.027773</td>\n",
       "    </tr>\n",
       "    <tr>\n",
       "      <th>1997-06-10 00:00:00-04:00</th>\n",
       "      <td>0.085417</td>\n",
       "      <td>0.085417</td>\n",
       "      <td>0.076563</td>\n",
       "      <td>0.079167</td>\n",
       "      <td>0.079167</td>\n",
       "      <td>109176000</td>\n",
       "      <td>-0.061724</td>\n",
       "      <td>0.938276</td>\n",
       "      <td>0.027773</td>\n",
       "    </tr>\n",
       "    <tr>\n",
       "      <th>1997-06-11 00:00:00-04:00</th>\n",
       "      <td>0.079688</td>\n",
       "      <td>0.080208</td>\n",
       "      <td>0.076563</td>\n",
       "      <td>0.077083</td>\n",
       "      <td>0.077083</td>\n",
       "      <td>23760000</td>\n",
       "      <td>-0.026324</td>\n",
       "      <td>0.973676</td>\n",
       "      <td>0.027773</td>\n",
       "    </tr>\n",
       "    <tr>\n",
       "      <th>1997-06-12 00:00:00-04:00</th>\n",
       "      <td>0.079167</td>\n",
       "      <td>0.082292</td>\n",
       "      <td>0.077604</td>\n",
       "      <td>0.080208</td>\n",
       "      <td>0.080208</td>\n",
       "      <td>32640000</td>\n",
       "      <td>0.040541</td>\n",
       "      <td>1.040541</td>\n",
       "      <td>0.027773</td>\n",
       "    </tr>\n",
       "    <tr>\n",
       "      <th>1997-06-13 00:00:00-04:00</th>\n",
       "      <td>0.081250</td>\n",
       "      <td>0.081250</td>\n",
       "      <td>0.079167</td>\n",
       "      <td>0.079167</td>\n",
       "      <td>0.079167</td>\n",
       "      <td>13872000</td>\n",
       "      <td>-0.012979</td>\n",
       "      <td>0.987021</td>\n",
       "      <td>0.027773</td>\n",
       "    </tr>\n",
       "    <tr>\n",
       "      <th>1997-06-16 00:00:00-04:00</th>\n",
       "      <td>0.080208</td>\n",
       "      <td>0.080208</td>\n",
       "      <td>0.078125</td>\n",
       "      <td>0.078646</td>\n",
       "      <td>0.078646</td>\n",
       "      <td>18264000</td>\n",
       "      <td>-0.006581</td>\n",
       "      <td>0.993419</td>\n",
       "      <td>0.027773</td>\n",
       "    </tr>\n",
       "    <tr>\n",
       "      <th>1997-06-17 00:00:00-04:00</th>\n",
       "      <td>0.079948</td>\n",
       "      <td>0.079948</td>\n",
       "      <td>0.074740</td>\n",
       "      <td>0.075260</td>\n",
       "      <td>0.075260</td>\n",
       "      <td>94128000</td>\n",
       "      <td>-0.043054</td>\n",
       "      <td>0.956946</td>\n",
       "      <td>0.027773</td>\n",
       "    </tr>\n",
       "    <tr>\n",
       "      <th>1997-06-18 00:00:00-04:00</th>\n",
       "      <td>0.076042</td>\n",
       "      <td>0.076823</td>\n",
       "      <td>0.075000</td>\n",
       "      <td>0.075521</td>\n",
       "      <td>0.075521</td>\n",
       "      <td>49296000</td>\n",
       "      <td>0.003468</td>\n",
       "      <td>1.003468</td>\n",
       "      <td>0.027773</td>\n",
       "    </tr>\n",
       "    <tr>\n",
       "      <th>1997-06-19 00:00:00-04:00</th>\n",
       "      <td>0.075521</td>\n",
       "      <td>0.076563</td>\n",
       "      <td>0.075000</td>\n",
       "      <td>0.075521</td>\n",
       "      <td>0.075521</td>\n",
       "      <td>20064000</td>\n",
       "      <td>0.000000</td>\n",
       "      <td>1.000000</td>\n",
       "      <td>0.027773</td>\n",
       "    </tr>\n",
       "    <tr>\n",
       "      <th>1997-06-20 00:00:00-04:00</th>\n",
       "      <td>0.076563</td>\n",
       "      <td>0.077604</td>\n",
       "      <td>0.075000</td>\n",
       "      <td>0.076302</td>\n",
       "      <td>0.076302</td>\n",
       "      <td>67752000</td>\n",
       "      <td>0.010341</td>\n",
       "      <td>1.010341</td>\n",
       "      <td>0.027773</td>\n",
       "    </tr>\n",
       "    <tr>\n",
       "      <th>1997-06-23 00:00:00-04:00</th>\n",
       "      <td>0.077083</td>\n",
       "      <td>0.077083</td>\n",
       "      <td>0.073958</td>\n",
       "      <td>0.075000</td>\n",
       "      <td>0.075000</td>\n",
       "      <td>20952000</td>\n",
       "      <td>-0.017064</td>\n",
       "      <td>0.982936</td>\n",
       "      <td>0.027773</td>\n",
       "    </tr>\n",
       "    <tr>\n",
       "      <th>1997-06-24 00:00:00-04:00</th>\n",
       "      <td>0.075260</td>\n",
       "      <td>0.076302</td>\n",
       "      <td>0.073958</td>\n",
       "      <td>0.075521</td>\n",
       "      <td>0.075521</td>\n",
       "      <td>15024000</td>\n",
       "      <td>0.006947</td>\n",
       "      <td>1.006947</td>\n",
       "      <td>0.027773</td>\n",
       "    </tr>\n",
       "    <tr>\n",
       "      <th>1997-06-25 00:00:00-04:00</th>\n",
       "      <td>0.076302</td>\n",
       "      <td>0.076302</td>\n",
       "      <td>0.074479</td>\n",
       "      <td>0.075521</td>\n",
       "      <td>0.075521</td>\n",
       "      <td>42120000</td>\n",
       "      <td>0.000000</td>\n",
       "      <td>1.000000</td>\n",
       "      <td>0.027773</td>\n",
       "    </tr>\n",
       "    <tr>\n",
       "      <th>1997-06-26 00:00:00-04:00</th>\n",
       "      <td>0.076042</td>\n",
       "      <td>0.076042</td>\n",
       "      <td>0.075260</td>\n",
       "      <td>0.075521</td>\n",
       "      <td>0.075521</td>\n",
       "      <td>63792000</td>\n",
       "      <td>0.000000</td>\n",
       "      <td>1.000000</td>\n",
       "      <td>0.027773</td>\n",
       "    </tr>\n",
       "    <tr>\n",
       "      <th>1997-06-27 00:00:00-04:00</th>\n",
       "      <td>0.075781</td>\n",
       "      <td>0.075781</td>\n",
       "      <td>0.073958</td>\n",
       "      <td>0.074479</td>\n",
       "      <td>0.074479</td>\n",
       "      <td>23760000</td>\n",
       "      <td>-0.013797</td>\n",
       "      <td>0.986203</td>\n",
       "      <td>0.027773</td>\n",
       "    </tr>\n",
       "    <tr>\n",
       "      <th>1997-06-30 00:00:00-04:00</th>\n",
       "      <td>0.075521</td>\n",
       "      <td>0.079948</td>\n",
       "      <td>0.073958</td>\n",
       "      <td>0.077083</td>\n",
       "      <td>0.077083</td>\n",
       "      <td>54936000</td>\n",
       "      <td>0.034963</td>\n",
       "      <td>1.034963</td>\n",
       "      <td>0.027773</td>\n",
       "    </tr>\n",
       "  </tbody>\n",
       "</table>\n",
       "</div>"
      ],
      "text/plain": [
       "                               Open      High       Low     Close  Adj Close  \\\n",
       "Date                                                                           \n",
       "1997-05-15 00:00:00-04:00  0.121875  0.125000  0.096354  0.097917   0.097917   \n",
       "1997-05-16 00:00:00-04:00  0.098438  0.098958  0.085417  0.086458   0.086458   \n",
       "1997-05-19 00:00:00-04:00  0.088021  0.088542  0.081250  0.085417   0.085417   \n",
       "1997-05-20 00:00:00-04:00  0.086458  0.087500  0.081771  0.081771   0.081771   \n",
       "1997-05-21 00:00:00-04:00  0.081771  0.082292  0.068750  0.071354   0.071354   \n",
       "1997-05-22 00:00:00-04:00  0.071875  0.072396  0.065625  0.069792   0.069792   \n",
       "1997-05-23 00:00:00-04:00  0.070313  0.076042  0.066667  0.075000   0.075000   \n",
       "1997-05-27 00:00:00-04:00  0.075521  0.082292  0.072917  0.079167   0.079167   \n",
       "1997-05-28 00:00:00-04:00  0.081250  0.081771  0.076563  0.076563   0.076563   \n",
       "1997-05-29 00:00:00-04:00  0.077083  0.077083  0.073958  0.075260   0.075260   \n",
       "1997-05-30 00:00:00-04:00  0.075000  0.075521  0.073958  0.075000   0.075000   \n",
       "1997-06-02 00:00:00-04:00  0.075521  0.076563  0.075000  0.075521   0.075521   \n",
       "1997-06-03 00:00:00-04:00  0.076563  0.076563  0.073958  0.073958   0.073958   \n",
       "1997-06-04 00:00:00-04:00  0.073958  0.074479  0.069792  0.070833   0.070833   \n",
       "1997-06-05 00:00:00-04:00  0.070833  0.077083  0.068750  0.077083   0.077083   \n",
       "1997-06-06 00:00:00-04:00  0.075781  0.085417  0.075521  0.082813   0.082813   \n",
       "1997-06-09 00:00:00-04:00  0.082813  0.085417  0.082813  0.084375   0.084375   \n",
       "1997-06-10 00:00:00-04:00  0.085417  0.085417  0.076563  0.079167   0.079167   \n",
       "1997-06-11 00:00:00-04:00  0.079688  0.080208  0.076563  0.077083   0.077083   \n",
       "1997-06-12 00:00:00-04:00  0.079167  0.082292  0.077604  0.080208   0.080208   \n",
       "1997-06-13 00:00:00-04:00  0.081250  0.081250  0.079167  0.079167   0.079167   \n",
       "1997-06-16 00:00:00-04:00  0.080208  0.080208  0.078125  0.078646   0.078646   \n",
       "1997-06-17 00:00:00-04:00  0.079948  0.079948  0.074740  0.075260   0.075260   \n",
       "1997-06-18 00:00:00-04:00  0.076042  0.076823  0.075000  0.075521   0.075521   \n",
       "1997-06-19 00:00:00-04:00  0.075521  0.076563  0.075000  0.075521   0.075521   \n",
       "1997-06-20 00:00:00-04:00  0.076563  0.077604  0.075000  0.076302   0.076302   \n",
       "1997-06-23 00:00:00-04:00  0.077083  0.077083  0.073958  0.075000   0.075000   \n",
       "1997-06-24 00:00:00-04:00  0.075260  0.076302  0.073958  0.075521   0.075521   \n",
       "1997-06-25 00:00:00-04:00  0.076302  0.076302  0.074479  0.075521   0.075521   \n",
       "1997-06-26 00:00:00-04:00  0.076042  0.076042  0.075260  0.075521   0.075521   \n",
       "1997-06-27 00:00:00-04:00  0.075781  0.075781  0.073958  0.074479   0.074479   \n",
       "1997-06-30 00:00:00-04:00  0.075521  0.079948  0.073958  0.077083   0.077083   \n",
       "\n",
       "                               Volume  daily_ret  daily_ret_1  monthly_ret  \n",
       "Date                                                                        \n",
       "1997-05-15 00:00:00-04:00  1443120000        NaN          NaN    -0.234045  \n",
       "1997-05-16 00:00:00-04:00   294000000  -0.117028     0.882972    -0.234045  \n",
       "1997-05-19 00:00:00-04:00   122136000  -0.012040     0.987960    -0.234045  \n",
       "1997-05-20 00:00:00-04:00   109344000  -0.042685     0.957315    -0.234045  \n",
       "1997-05-21 00:00:00-04:00   377064000  -0.127392     0.872608    -0.234045  \n",
       "1997-05-22 00:00:00-04:00   235536000  -0.021891     0.978109    -0.234045  \n",
       "1997-05-23 00:00:00-04:00   318744000   0.074622     1.074622    -0.234045  \n",
       "1997-05-27 00:00:00-04:00   173952000   0.055560     1.055560    -0.234045  \n",
       "1997-05-28 00:00:00-04:00    91488000  -0.032892     0.967108    -0.234045  \n",
       "1997-05-29 00:00:00-04:00    69456000  -0.017019     0.982981    -0.234045  \n",
       "1997-05-30 00:00:00-04:00    51888000  -0.003455     0.996545    -0.234045  \n",
       "1997-06-02 00:00:00-04:00    11832000   0.006947     1.006947     0.027773  \n",
       "1997-06-03 00:00:00-04:00    23664000  -0.020696     0.979304     0.027773  \n",
       "1997-06-04 00:00:00-04:00    61608000  -0.042254     0.957746     0.027773  \n",
       "1997-06-05 00:00:00-04:00   113448000   0.088236     1.088236     0.027773  \n",
       "1997-06-06 00:00:00-04:00   156144000   0.074335     1.074335     0.027773  \n",
       "1997-06-09 00:00:00-04:00    47040000   0.018862     1.018862     0.027773  \n",
       "1997-06-10 00:00:00-04:00   109176000  -0.061724     0.938276     0.027773  \n",
       "1997-06-11 00:00:00-04:00    23760000  -0.026324     0.973676     0.027773  \n",
       "1997-06-12 00:00:00-04:00    32640000   0.040541     1.040541     0.027773  \n",
       "1997-06-13 00:00:00-04:00    13872000  -0.012979     0.987021     0.027773  \n",
       "1997-06-16 00:00:00-04:00    18264000  -0.006581     0.993419     0.027773  \n",
       "1997-06-17 00:00:00-04:00    94128000  -0.043054     0.956946     0.027773  \n",
       "1997-06-18 00:00:00-04:00    49296000   0.003468     1.003468     0.027773  \n",
       "1997-06-19 00:00:00-04:00    20064000   0.000000     1.000000     0.027773  \n",
       "1997-06-20 00:00:00-04:00    67752000   0.010341     1.010341     0.027773  \n",
       "1997-06-23 00:00:00-04:00    20952000  -0.017064     0.982936     0.027773  \n",
       "1997-06-24 00:00:00-04:00    15024000   0.006947     1.006947     0.027773  \n",
       "1997-06-25 00:00:00-04:00    42120000   0.000000     1.000000     0.027773  \n",
       "1997-06-26 00:00:00-04:00    63792000   0.000000     1.000000     0.027773  \n",
       "1997-06-27 00:00:00-04:00    23760000  -0.013797     0.986203     0.027773  \n",
       "1997-06-30 00:00:00-04:00    54936000   0.034963     1.034963     0.027773  "
      ]
     },
     "execution_count": 27,
     "metadata": {},
     "output_type": "execute_result"
    }
   ],
   "source": [
    "amzn.head(32)"
   ]
  },
  {
   "cell_type": "markdown",
   "metadata": {
    "pycharm": {
     "name": "#%% md\n"
    }
   },
   "source": [
    "### Task 9: Monthly Netflix returns\n",
    "\n",
    "\n",
    "1. Create a new column **monthly_ret** for the monthly returns.\n",
    "2. Subtract 1 from the **monthly_ret** column to reflect the values as a signed rate."
   ]
  },
  {
   "cell_type": "code",
   "execution_count": 10,
   "metadata": {
    "pycharm": {
     "name": "#%%\n"
    }
   },
   "outputs": [],
   "source": [
    "nflx['monthly_ret'] = nflx['daily_ret_1'].resample('1M').transform('prod') - 1"
   ]
  }
 ],
 "metadata": {
  "kernelspec": {
   "display_name": "ds-py37",
   "language": "python",
   "name": "python3"
  },
  "language_info": {
   "codemirror_mode": {
    "name": "ipython",
    "version": 3
   },
   "file_extension": ".py",
   "mimetype": "text/x-python",
   "name": "python",
   "nbconvert_exporter": "python",
   "pygments_lexer": "ipython3",
   "version": "3.7.0"
  },
  "vscode": {
   "interpreter": {
    "hash": "6bfbe47bd08290686626768386311ceb83f3a0dbecee84d146c554190cea57e3"
   }
  }
 },
 "nbformat": 4,
 "nbformat_minor": 2
}
