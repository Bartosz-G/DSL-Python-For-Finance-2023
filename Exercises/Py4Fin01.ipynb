{
 "cells": [
  {
   "cell_type": "markdown",
   "source": [
    "# Python for Finance - Part 1\n",
    "\n",
    "&nbsp;\n",
    "\n",
    "Part 1 of the workshop will teach you how to retrieve, visualize and work with share price data using Python."
   ],
   "metadata": {
    "collapsed": false,
    "pycharm": {
     "name": "#%% md\n"
    }
   }
  },
  {
   "cell_type": "markdown",
   "source": [
    "<b>After having completed this part, you will be able to:</b>\n",
    "\n",
    "- Downloading financial/stock data from yahoo finance\n",
    "- Using matplotlib to plot stock data with line plots\n",
    "- Customizing lines and plots\n",
    "- Combining multiple stock data series in a line plot\n",
    "- Calculating daily, monthly and annual returns"
   ],
   "metadata": {
    "collapsed": false,
    "pycharm": {
     "name": "#%% md\n"
    }
   }
  },
  {
   "cell_type": "markdown",
   "source": [
    "<b>What to do when getting stuck</b>:\n",
    "    <ol>\n",
    "        <li>Search online:</li>\n",
    "        <ol>\n",
    "            <li>The answer box on the top of Google's results page</li>\n",
    "            <li><a href=\"https://www.stackoverflow.com\">stackoverflow.com</a> (task-specific solutions)</li>\n",
    "            <li><a href=\"https://www.w3schools.com\">w3schools.com</a> (basic python questions)</li>\n",
    "            <li><a href=\"https://www.realpython.com\">realpython.com</a> (topic-based tutorials)</li>\n",
    "        </ol>\n",
    "        <li>Ask the trainer if you struggle to find a solution.</li>\n",
    "    </ol>\n",
    "\n",
    "&nbsp;\n"
   ],
   "metadata": {
    "collapsed": false,
    "pycharm": {
     "name": "#%% md\n"
    }
   }
  },
  {
   "cell_type": "markdown",
   "source": [
    "<img src=\"https://upload.wikimedia.org/wikipedia/commons/thumb/6/6b/Microcosm_of_London_Plate_075_-_New_Stock_Exchange_%28tone%29.jpg/640px-Microcosm_of_London_Plate_075_-_New_Stock_Exchange_%28tone%29.jpg\" width=\"400px\" align=\"left\">"
   ],
   "metadata": {
    "collapsed": false,
    "pycharm": {
     "name": "#%% md\n"
    }
   }
  },
  {
   "cell_type": "markdown",
   "source": [
    "London Stock Exchange in 1810"
   ],
   "metadata": {
    "collapsed": false,
    "pycharm": {
     "name": "#%% md\n"
    }
   }
  },
  {
   "cell_type": "markdown",
   "source": [
    "---"
   ],
   "metadata": {
    "collapsed": false,
    "pycharm": {
     "name": "#%% md\n"
    }
   }
  },
  {
   "cell_type": "markdown",
   "source": [
    "## Using Python for Finance\n",
    "\n",
    "Python is one of the most popular programming languages for data analysis/data science and is also the most popular programming language in fintech. Python is extremely versatile and although it might not be the language of choice for every purpose it certainly can be used for almost anything. Another great feature about Python is that it is very easy to learn and that you can find blogs, tutorials, forum posts or video tutorials on almost any topic. \n",
    "\n",
    "Here are some examples of how Python can be used to work with finance data:\n",
    "- transform and prepare data for statistical analysis\n",
    "- explore data through summary statistics and visualizations\n",
    "- run statistical and machine learning models to make predictions and generate insights from data\n",
    "- scrape data from websites\n",
    "- create interactive charts\n",
    "- build web applications\n",
    "\n",
    "This course will teach you how to apply Python to carry out finance specific tasks, such as retrieving stock market data through an API, plotting share prices, working returns and rolling statistics, and doing portfolio optimization using monte carlo simulation."
   ],
   "metadata": {
    "collapsed": false,
    "pycharm": {
     "name": "#%% md\n"
    }
   }
  },
  {
   "cell_type": "markdown",
   "source": [
    "## Anaconda and Anaconda Navigator\n",
    "\n",
    "Anaconda is a Python distribution for data science that together with Anaconda Navigator, a graphical user interface for a range of applications\n",
    "aims to provide a user-friendly working environment for beginners and experienced users. With Anaconda, you get base Python, the most important data science libraries and applications to write and run Python scripts with one installer, which simplifies the installation process tremendously.\n",
    "\n",
    "Anaconda is great for beginners since a wide range of data science libraries are already preinstalled and it makes it easy to install additional libraries and manage environments with conda, which is the package manager of the Anaconda distribution. Here is a [conda cheatsheet](https://docs.conda.io/projects/conda/en/4.6.0/_downloads/52a95608c49671267e40c689e0bc00ca/conda-cheatsheet.pdf) with the most important commands to install and manage libraries and environments.\n",
    "\n",
    "In addition, Anaconda Navigator offers a GUI to choose from a number of popular applications to write Python code, such as jupyter notebook, Spyder and VS Code.\n",
    "\n"
   ],
   "metadata": {
    "collapsed": false,
    "pycharm": {
     "name": "#%% md\n"
    }
   }
  },
  {
   "cell_type": "markdown",
   "source": [
    "## Installing yahoo-finance\n",
    "\n",
    "The Anaconda distribution contains many of the most important libraries used for data science. The yahoofinance library however, which we will use to download stock price data from yahoo finance, is not part of it yet and has to be installed by the user. We use the `conda install` command to install the library. Following the name of the library we use `-c conda-forge` to download the packages from the conda-forge channel."
   ],
   "metadata": {
    "collapsed": false,
    "pycharm": {
     "name": "#%% md\n"
    }
   }
  },
  {
   "cell_type": "code",
   "execution_count": null,
   "outputs": [],
   "source": [
    "conda install -c conda-forge yfinance"
   ],
   "metadata": {
    "collapsed": false,
    "pycharm": {
     "name": "#%%\n"
    }
   }
  },
  {
   "cell_type": "markdown",
   "source": [
    "\n",
    "\n",
    "The Anaconda repository is a Python library storage system that hosts several thousand libraries. The Anaconda repository is organized into a multitude of channels, the most commonly used being conda and conda-forge, which are managed by the Anaconda and condas-forge team respectively. The conda repository is the default channel which hosts the most commonly used libraries. Conda-forge stores libraries that are not yet part of the official Anaconda distribution. Although it probably won't make much of a difference whether you use conda or conda-forge, there are two reasons for why you might want to prefer conda-forge. Libraries on conda-forge are likely to be more up to date and you are also more likely to find a library on conda-forge.\n",
    "\n",
    "&nbsp;\n",
    "\n",
    "&nbsp;\n"
   ],
   "metadata": {
    "collapsed": false,
    "pycharm": {
     "name": "#%% md\n"
    }
   }
  },
  {
   "cell_type": "markdown",
   "source": [
    "## Task 1 - Installing yahoo-finance\n",
    "\n",
    "1. Use the commands from above to install yahoofinance library.\n",
    "2. Once the library has been installed run the `conda list` command to verify the installation. It should display the name, version, build and channel."
   ],
   "metadata": {
    "collapsed": false,
    "pycharm": {
     "name": "#%% md\n"
    }
   }
  },
  {
   "cell_type": "code",
   "execution_count": null,
   "outputs": [],
   "source": [
    "conda list yfinance"
   ],
   "metadata": {
    "collapsed": false,
    "pycharm": {
     "name": "#%%\n"
    }
   }
  },
  {
   "cell_type": "markdown",
   "source": [
    "&nbsp;\n",
    "\n",
    "&nbsp;"
   ],
   "metadata": {
    "collapsed": false,
    "pycharm": {
     "name": "#%% md\n"
    }
   }
  },
  {
   "cell_type": "markdown",
   "source": [
    "\n",
    "## Downloading financial data from yahoo finance"
   ],
   "metadata": {
    "collapsed": false,
    "pycharm": {
     "name": "#%% md\n"
    }
   }
  },
  {
   "cell_type": "markdown",
   "source": [
    "<img src=\"https://upload.wikimedia.org/wikipedia/commons/thumb/c/c5/Bitcoin_logo.svg/1920px-Bitcoin_logo.svg.png\" width=\"200px\" align=\"left\">"
   ],
   "metadata": {
    "collapsed": false,
    "pycharm": {
     "name": "#%% md\n"
    }
   }
  },
  {
   "cell_type": "markdown",
   "source": [
    "To download stock data from yahoo finance we will use the yahoofinance library. In particular, we will use the `download()` function which is located in the `yfinance` module.\n",
    "\n",
    "For this example, we are going to download the **Bitcoin to GBP rate**. There are more detailed explanations on the code below."
   ],
   "metadata": {
    "collapsed": false,
    "pycharm": {
     "name": "#%% md\n"
    }
   }
  },
  {
   "cell_type": "code",
   "execution_count": null,
   "outputs": [],
   "source": [
    "# importing libraries\n",
    "import yfinance as yf\n",
    "import pandas as pd\n",
    "\n",
    "\n",
    "# creating a start and end date\n",
    "\n",
    "start = '2020-01-01'\n",
    "\n",
    "end = '2022-01-29'\n",
    "\n",
    "# creating a variable for the ticker\n",
    "ticker = 'BTC-GBP'\n",
    "\n",
    "# downloading the bitcoin to gbp rate\n",
    "\n",
    "btc = yf.download(ticker,start=start,end=end)\n",
    "\n",
    "btc"
   ],
   "metadata": {
    "collapsed": false,
    "pycharm": {
     "name": "#%%\n"
    }
   }
  },
  {
   "cell_type": "markdown",
   "source": [
    "#### Line 2f: Importing libraries\n",
    "\n",
    "```python\n",
    "import yfinance as yf\n",
    "import pandas as pd\n",
    "```\n",
    "\n",
    "In order to import and work with financial data from yahoo finance, we will need the following libraries:\n",
    "\n",
    "- yfinance: To download financial data\n",
    "- pandas: To work with the financial data as a dataframe"
   ],
   "metadata": {
    "collapsed": false,
    "pycharm": {
     "name": "#%% md\n"
    }
   }
  },
  {
   "cell_type": "markdown",
   "source": [
    "#### Line 6f: Creating a start and end date\n",
    "\n",
    "\n",
    "```python\n",
    "start = '2020-01-01'\n",
    "end = '2022-01-29'\n",
    "```\n",
    "\n",
    "The `yf.download()` function does not require a start and end date. If no dates are provided, it will return the data from the last five years or less, depending on how much data is available.\n",
    "\n",
    "The dates are created as strings. We use the `%y-%m-%d` format to download data from 1st Jan 2020 till 1st Nov 2021. The get_data_yahoo() function only accepts `%y-%m-%d` as a date format."
   ],
   "metadata": {
    "collapsed": false,
    "pycharm": {
     "name": "#%% md\n"
    }
   }
  },
  {
   "cell_type": "markdown",
   "source": [
    "#### Line 10: Creating a ticker variable\n",
    "\n",
    "```python\n",
    "ticker = 'BTC-GBP'\n",
    "```\n",
    "\n",
    "The ticker is a symbol to uniquely identify a stock. You can search the ticker on the yahoo finance website (see below). We store the ticker `'BTC-GBP'`for the Bitcon to British Pound rate in the variable `ticker`."
   ],
   "metadata": {
    "collapsed": false,
    "pycharm": {
     "name": "#%% md\n"
    }
   }
  },
  {
   "cell_type": "markdown",
   "source": [
    "#### Line 13: Downloading the data\n",
    "\n",
    "```python\n",
    "btc = yf.download(ticker, start, end)\n",
    "```\n",
    "\n",
    "To download the data for the Bitcoin-GBP rate, we are going to use the **yfinance** library, which we imported under the alias `yf`. We will use the `download()` function to download the financial data from finance.yahoo.com.\n",
    "\n",
    "The `download()` function requires 1 argument: ticker. The start and end arguments are optional.\n",
    "- *ticker*: the abbreviation of the stock name\n",
    "- *start*: the starting date\n",
    "- *end*: the end date\n",
    "\n",
    "We pass `ticker` as the first argument. We also enter our start and end dates using the variables `start` and `end`.\n",
    "\n",
    "These three arguments have to be passed in this specific order!"
   ],
   "metadata": {
    "collapsed": false,
    "pycharm": {
     "name": "#%% md\n"
    }
   }
  },
  {
   "cell_type": "markdown",
   "source": [
    "We can now have a look at the data."
   ],
   "metadata": {
    "collapsed": false,
    "pycharm": {
     "name": "#%% md\n"
    }
   }
  },
  {
   "cell_type": "code",
   "execution_count": null,
   "outputs": [],
   "source": [
    "btc"
   ],
   "metadata": {
    "collapsed": false,
    "pycharm": {
     "name": "#%%\n"
    }
   }
  },
  {
   "cell_type": "markdown",
   "source": [
    "---"
   ],
   "metadata": {
    "collapsed": false,
    "pycharm": {
     "name": "#%% md\n"
    }
   }
  },
  {
   "cell_type": "markdown",
   "source": [
    "<img src=\"https://www.dropbox.com/s/ijgo4f0sm3k2xc0/tesco_ms.png?raw=1\" align=\"left\" width=400px>"
   ],
   "metadata": {
    "collapsed": false,
    "pycharm": {
     "name": "#%% md\n"
    }
   }
  },
  {
   "cell_type": "markdown",
   "source": [
    "## Task 2: Import the stock data from Tesco and Marks and Spencer"
   ],
   "metadata": {
    "collapsed": false,
    "pycharm": {
     "name": "#%% md\n"
    }
   }
  },
  {
   "cell_type": "markdown",
   "source": [
    "1. Import the relevant libraries as shown above.\n",
    "2. Search for the ticker for Tesco and Marks and Spencer from the London Stock Exchange on https://uk.finance.yahoo.com/\n",
    "\n",
    "<img src=\"https://www.dropbox.com/s/ggjn22cr2vhru8q/yahoo_finance.png?raw=1\" width=500px>\n",
    "\n",
    "3. Create as a start date 2010 and today as the end date.\n",
    "4. Import the stock data using yahoo finance as the source and store both in separate variables.\n",
    "5. Export both datasets as a csv.\n",
    "6. Print the head of each dataset.\n",
    "7. The start and end date are optional parameters. How else can you get the data from the past 10 years, apart from entering the end date?"
   ],
   "metadata": {
    "collapsed": false,
    "pycharm": {
     "name": "#%% md\n"
    }
   }
  },
  {
   "cell_type": "code",
   "execution_count": null,
   "outputs": [],
   "source": [],
   "metadata": {
    "collapsed": false,
    "pycharm": {
     "name": "#%%\n"
    }
   }
  },
  {
   "cell_type": "code",
   "execution_count": null,
   "outputs": [],
   "source": [
    "# solution output - don't run this cell or the output will be lost"
   ],
   "metadata": {
    "collapsed": false,
    "pycharm": {
     "name": "#%%\n"
    }
   }
  },
  {
   "cell_type": "markdown",
   "source": [
    "---"
   ],
   "metadata": {
    "collapsed": false,
    "pycharm": {
     "name": "#%% md\n"
    }
   }
  },
  {
   "cell_type": "markdown",
   "source": [
    "## Inspecting a dataset"
   ],
   "metadata": {
    "collapsed": false,
    "pycharm": {
     "name": "#%% md\n"
    }
   }
  },
  {
   "cell_type": "markdown",
   "source": [
    "### Getting an overview of the data\n",
    "\n",
    "Pandas has a number of useful methods to get an overview of your dataset. Try a websearch if you cannot remember the method from the courses on dataquest.io to solve the task."
   ],
   "metadata": {
    "collapsed": false,
    "pycharm": {
     "name": "#%% md\n"
    }
   }
  },
  {
   "cell_type": "markdown",
   "source": [
    "## Task 3: Inspecting the dataset\n",
    "\n",
    "1. Print the column types of the Tesco and Marks and Spencer stock dataset.\n",
    "2. Print the number of rows of both datasets.\n",
    "3. Print the the first and last value in the Adjusted Close column of each dataset.\n",
    "4. Print the summary statistics for the complete dataframe."
   ],
   "metadata": {
    "collapsed": false,
    "pycharm": {
     "name": "#%% md\n"
    }
   }
  },
  {
   "cell_type": "code",
   "execution_count": null,
   "outputs": [],
   "source": [],
   "metadata": {
    "collapsed": false,
    "pycharm": {
     "name": "#%%\n"
    }
   }
  },
  {
   "cell_type": "code",
   "execution_count": null,
   "outputs": [],
   "source": [
    "# solution output - don't run this cell or the output will be lost"
   ],
   "metadata": {
    "collapsed": false,
    "pycharm": {
     "name": "#%%\n"
    }
   }
  },
  {
   "cell_type": "markdown",
   "source": [
    "---"
   ],
   "metadata": {
    "collapsed": false,
    "pycharm": {
     "name": "#%% md\n"
    }
   }
  },
  {
   "cell_type": "markdown",
   "source": [
    "## Plotting with matplotlib"
   ],
   "metadata": {
    "collapsed": false,
    "pycharm": {
     "name": "#%% md\n"
    }
   }
  },
  {
   "cell_type": "markdown",
   "source": [
    "Matplotlib is the most popular plotting library in Python. It allows you to create many different plots with very few code. Although creating more complex plots, can be challenging, it isn't difficult to find useful help in [blog posts](https://towardsdatascience.com/matplotlib-tutorial-learn-basics-of-pythons-powerful-plotting-library-b5d1b8f67596), [tutorials](https://realpython.com/python-matplotlib-guide/), on [stackoverflow.com](https://stackoverflow.com/questions/tagged/matplotlib?sort=MostVotes&edited=true) or the documentation and tutorials on the [matplotlib website](https://matplotlib.org/tutorials/).\n",
    "\n",
    "We are going to use the **matplotlib** library to plot the Bitcoin to British Pound rate as a function of time. We can use the **index** of the **btc** data frame to retrieve the date and the **Adj Close** column to plot the Bitcoin to Pound rate."
   ],
   "metadata": {
    "collapsed": false,
    "pycharm": {
     "name": "#%% md\n"
    }
   }
  },
  {
   "cell_type": "markdown",
   "source": [
    "### Simple line plot"
   ],
   "metadata": {
    "collapsed": false,
    "pycharm": {
     "name": "#%% md\n"
    }
   }
  },
  {
   "cell_type": "code",
   "execution_count": null,
   "outputs": [],
   "source": [
    "#import matplotlib\n",
    "import matplotlib.pyplot as plt\n",
    "\n",
    "# plot Adj Close column\n",
    "plt.plot(btc.index, btc['Adj Close'])\n",
    "\n",
    "plt.show()"
   ],
   "metadata": {
    "collapsed": false,
    "pycharm": {
     "name": "#%%\n"
    }
   }
  },
  {
   "cell_type": "markdown",
   "source": [
    "#### Line 1: Importing matplotlib\n",
    "\n",
    "```python\n",
    "import matplotlib.pyplot as plt\n",
    "```\n",
    "\n",
    "We start by importing the `pyplot` module from the `matplotlib` library under the alias `plt`."
   ],
   "metadata": {
    "collapsed": false,
    "pycharm": {
     "name": "#%% md\n"
    }
   }
  },
  {
   "cell_type": "markdown",
   "source": [
    "#### Line 3: line plot\n",
    "\n",
    "```python\n",
    "plt.plot(btc.index, btc['Close'])\n",
    "```\n",
    "\n",
    "From the `plt` module we call the `plot()` function and we pass as arguments the **index** and the **Close** column of the btc dataframe. The values for the x and y axis are positional arguments, which means they have to be passed in this order."
   ],
   "metadata": {
    "collapsed": false,
    "pycharm": {
     "name": "#%% md\n"
    }
   }
  },
  {
   "cell_type": "markdown",
   "source": [
    "#### Line 4: plt.show()\n",
    "\n",
    "```python\n",
    "plt.show()\n",
    "```\n",
    "\n",
    "The `plt.show()` command is used to display matplotlib figures. It is actually not necessary to run the plt.show() command in a Jupyter notebook to display the figures, but you would have to use it to display a plot in a normal Python script for instance."
   ],
   "metadata": {
    "collapsed": false,
    "pycharm": {
     "name": "#%% md\n"
    }
   }
  },
  {
   "cell_type": "markdown",
   "source": [
    "## Task 4: A simple line plot\n",
    "\n",
    "1. Import matplotlib\n",
    "2. Create a line plot of the Adjusted Close column of the Tesco stock on the y-axis and the date on the x-axis."
   ],
   "metadata": {
    "collapsed": false,
    "pycharm": {
     "name": "#%% md\n"
    }
   }
  },
  {
   "cell_type": "code",
   "execution_count": null,
   "outputs": [],
   "source": [],
   "metadata": {
    "collapsed": false,
    "pycharm": {
     "name": "#%%\n"
    }
   }
  },
  {
   "cell_type": "code",
   "execution_count": null,
   "outputs": [],
   "source": [
    "# solution output - Don't run the cell below or the output is lost!"
   ],
   "metadata": {
    "collapsed": false,
    "pycharm": {
     "name": "#%%\n"
    }
   }
  },
  {
   "cell_type": "markdown",
   "source": [
    "---"
   ],
   "metadata": {
    "collapsed": false,
    "pycharm": {
     "name": "#%% md\n"
    }
   }
  },
  {
   "cell_type": "markdown",
   "source": [
    "## Customized line plot\n",
    "\n",
    "In the next step, we will customize the look of the plot by changing colors, adding labels and text and adding a grid. See explanations on the code below."
   ],
   "metadata": {
    "collapsed": false,
    "pycharm": {
     "name": "#%% md\n"
    }
   }
  },
  {
   "cell_type": "code",
   "execution_count": null,
   "outputs": [],
   "source": [
    "plt.plot(btc.index, btc['Adj Close'], color='tab:orange', linewidth=2, alpha=.8)\n",
    "\n",
    "plt.title('BTC') # adding a plot title\n",
    "plt.xlabel('Date') # adding an x-axis label\n",
    "plt.ylabel('Price') # adding a y-axis label\n",
    "plt.xticks(rotation=30) # rotating x-ticks\n",
    "plt.yticks([10000, 20000, 30000, 40000, 50000], \n",
    "           ['£10000', '£20000', '£30000', '£40000', '£50000']) # adding labels\n",
    "plt.grid(linestyle='--') # adding a grid to the plot\n",
    "\n",
    "plt.show()"
   ],
   "metadata": {
    "collapsed": false,
    "pycharm": {
     "name": "#%%\n"
    }
   }
  },
  {
   "cell_type": "markdown",
   "source": [
    "#### Line 1: Changing the appearance of the line\n",
    "\n",
    "\n",
    "```python\n",
    "plt.plot(btc.index, btc['Adj Close'], color='tab:orange', linewidth=1.5, alpha=.8)\n",
    "```\n",
    "We can change the appearance of the line with several keyword arguments to be passed to the `plt.plot()` function. \n",
    "\n",
    "We use the `color` argument to change the colour to the tableau orange with `'tab:orange'`. Have a look at the [matplotlib documentation](https://matplotlib.org/3.1.0/gallery/color/named_colors.html) for a colour palette and corresponding names.\n",
    "\n",
    "The `linewdith` argument takes float values to adjust the width of the line.\n",
    "\n",
    "With the `alpha` argument you can change the transparency of the line. You have to pass a value between 0 and 1."
   ],
   "metadata": {
    "collapsed": false,
    "pycharm": {
     "name": "#%% md\n"
    }
   }
  },
  {
   "cell_type": "markdown",
   "source": [
    "#### Line 3-5: Adding a title and labels\n",
    "\n",
    "\n",
    "```python\n",
    "plt.title('Bitcoin')\n",
    "plt.xlabel('Date')\n",
    "plt.ylabel('Price in GBP')\n",
    "```\n",
    "\n",
    "To add a title and labels for the x- and y-axis, we use `plt.title()`, `plt.xlabel()` and `plt.ylabel()` and pass a string for the title and axes labels.\n",
    "\n",
    "#### Line 6: Changing x-tick orientation\n",
    "\n",
    "```python\n",
    "plt.xticks(rotation=30)\n",
    "```\n",
    "The orientation of the x-ticks can be adjusted by passing a degree value to the rotation parameter from the `plt.xticks()` function.\n",
    "\n",
    "\n",
    "#### Line 7-8: Adding tick labels on y-axis\n",
    "\n",
    "```python\n",
    "plt.yticks([10000, 20000, 30000, 40000, 50000],\n",
    "           ['£10000', '£20000', '£30000', '£40000', '£50000'])\n",
    "```\n",
    "\n",
    "We can change the tick labels on the y-axis with `plt.ticks()` to display numbers preceded with a Pound symbol. To do this, we have to pass two lists to the function - the first containing the tick positions (10000 - 50000) and the second containing the string values that should be displayed at each tick position. \n",
    "\n",
    "#### Line 8: Addng a grid\n",
    "```python\n",
    "plt.grid(linestyle='--')\n",
    "```\n",
    "\n",
    "`plt.grid(linestyle='--')` adds a grid. With the `linestyle` argument we can change the from a solid to a dashed line."
   ],
   "metadata": {
    "collapsed": false,
    "pycharm": {
     "name": "#%% md\n"
    }
   }
  },
  {
   "cell_type": "markdown",
   "source": [
    "## Task 5: Customizing the line plot\n",
    "\n",
    "1. Adjust the colour, linewidth and alpha\n",
    "2. Add a title and axis labels\n",
    "3. Change the yticks to display a pound sign before the numbers\n",
    "4. Add a grid"
   ],
   "metadata": {
    "collapsed": false,
    "pycharm": {
     "name": "#%% md\n"
    }
   }
  },
  {
   "cell_type": "code",
   "execution_count": null,
   "outputs": [],
   "source": [],
   "metadata": {
    "collapsed": false,
    "pycharm": {
     "name": "#%%\n"
    }
   }
  },
  {
   "cell_type": "code",
   "execution_count": null,
   "outputs": [],
   "source": [
    "# solution output - Don't run the cell below or the output is lost!"
   ],
   "metadata": {
    "collapsed": false,
    "pycharm": {
     "name": "#%%\n"
    }
   }
  },
  {
   "cell_type": "markdown",
   "source": [
    "---"
   ],
   "metadata": {
    "collapsed": false,
    "pycharm": {
     "name": "#%% md\n"
    }
   }
  },
  {
   "cell_type": "markdown",
   "source": [
    "## Adding a second data series and a legend\n",
    "\n",
    "In the example below, a second line with the adjusted close price for Ethereum, which is another crypto currency, is added to the plot. See below for detailed explanations on the code."
   ],
   "metadata": {
    "collapsed": false,
    "pycharm": {
     "name": "#%% md\n"
    }
   }
  },
  {
   "cell_type": "code",
   "execution_count": null,
   "outputs": [],
   "source": [
    "eth = yf.download('ETH-GBP', start, end)\n",
    "\n",
    "plt.plot(btc.index, btc['Adj Close'], color='tab:orange', label='Bitcoin') # plotting the first line\n",
    "plt.plot(eth.index, eth['Adj Close'], color='tab:blue', label='Ethereum') # plotting the second line\n",
    "\n",
    "plt.title('BTC vs ETH')\n",
    "plt.xlabel('Date')\n",
    "plt.ylabel('Price in GBP')\n",
    "plt.xticks(rotation=30)\n",
    "plt.yticks([10000, 20000, 30000, 40000, 50000],\n",
    "           ['£10000', '£20000', '£30000', '£40000', '£50000'])\n",
    "plt.grid(linestyle='--')\n",
    "plt.legend() # displaying the legend using labels from plt.plot()\n",
    "\n",
    "plt.show()"
   ],
   "metadata": {
    "collapsed": false,
    "pycharm": {
     "name": "#%%\n"
    }
   }
  },
  {
   "cell_type": "markdown",
   "source": [
    "#### Line 3f: Plotting two lines in the same plot\n",
    "\n",
    "```python\n",
    "plt.plot(btc.index, btc['Adj Close'], color='tab:orange', label='Bitcoin')\n",
    "plt.plot(eth.index, eth['Adj Close'], color='tab:blue', label='Ethereum')\n",
    "```\n",
    "\n",
    "To add a second data series to the plot, you can add another `plt.plot()` call. In the example below, a second line is created by using the values from the Adj Close column of the Ethereum data. To better differentiate the two lines the colour is set to `tab:blue` and a label is applied with the `label` argument."
   ],
   "metadata": {
    "collapsed": false,
    "pycharm": {
     "name": "#%% md\n"
    }
   }
  },
  {
   "cell_type": "markdown",
   "source": [
    "#### Line 13: Adding a legend\n",
    "\n",
    "```python\n",
    "plt.legend()\n",
    "```\n",
    "\n",
    "With `plt.legend()` the legend is being displayed in the plot area. The legend will use the labels that we added to the lines with the `label` argument in line 1 and 2."
   ],
   "metadata": {
    "collapsed": false,
    "pycharm": {
     "name": "#%% md\n"
    }
   }
  },
  {
   "cell_type": "markdown",
   "source": [
    "### Task 5: Adding a second line\n",
    "\n",
    "1. Add a second line to the plot for the Marks and Spencer Adj Close column\n",
    "2. Add labels to both lines\n",
    "3. Add a legend\n",
    "4. Adjust the title\n",
    "5. Adjust the yaxis ticks"
   ],
   "metadata": {
    "collapsed": false,
    "pycharm": {
     "name": "#%% md\n"
    }
   }
  },
  {
   "cell_type": "code",
   "execution_count": null,
   "outputs": [],
   "source": [],
   "metadata": {
    "collapsed": false,
    "pycharm": {
     "name": "#%%\n"
    }
   }
  },
  {
   "cell_type": "code",
   "execution_count": null,
   "outputs": [],
   "source": [
    "# solution output - Don't run the cell below or the output is lost!"
   ],
   "metadata": {
    "collapsed": false,
    "pycharm": {
     "name": "#%%\n"
    }
   }
  },
  {
   "cell_type": "markdown",
   "source": [
    "## Calculating returns"
   ],
   "metadata": {
    "collapsed": false,
    "pycharm": {
     "name": "#%% md\n"
    }
   }
  },
  {
   "cell_type": "markdown",
   "source": [
    "Netflix has seen a phenomenal growth, like only very few tech companies, over the last decade. In the following tasks, you will download and visualize the Netflix stock price with a line chart and then continue to calculate the daily, monthly and annual returns and visualize them."
   ],
   "metadata": {
    "collapsed": false,
    "pycharm": {
     "name": "#%% md\n"
    }
   }
  },
  {
   "cell_type": "markdown",
   "source": [
    "&nbsp;\n",
    "\n",
    "<img src=\"https://upload.wikimedia.org/wikipedia/commons/thumb/0/08/Netflix_2015_logo.svg/800px-Netflix_2015_logo.svg.png\" width=\"40%\" align=\"left\">"
   ],
   "metadata": {
    "collapsed": false,
    "pycharm": {
     "name": "#%% md\n"
    }
   }
  },
  {
   "cell_type": "markdown",
   "source": [
    "### Task 6: Import netflix stock\n",
    "\n",
    "1. Import the libraries to import stock data from yahoo finance\n",
    "2. Search for the ticker for the Netflix stock on the yahoo finance website\n",
    "3. Import the Netflix stock data from 2009 till today\n",
    "4. Print the head of the dataframe and the first and last date to verify the download of the data."
   ],
   "metadata": {
    "collapsed": false,
    "pycharm": {
     "name": "#%% md\n"
    }
   }
  },
  {
   "cell_type": "markdown",
   "metadata": {
    "pycharm": {
     "name": "#%% md\n"
    }
   },
   "source": [
    "&nbsp;\n",
    "\n",
    "<img src=\"https://upload.wikimedia.org/wikipedia/commons/thumb/0/08/Netflix_2015_logo.svg/800px-Netflix_2015_logo.svg.png\" width=\"40%\" align=\"left\">"
   ]
  },
  {
   "cell_type": "markdown",
   "metadata": {
    "pycharm": {
     "name": "#%% md\n"
    }
   },
   "source": [
    "### Task 6: Import netflix stock\n",
    "\n",
    "1. Import the libraries to import stock data from yahoo finance\n",
    "2. Search for the ticker for the Netflix stock on the yahoo finance website\n",
    "3. Import the Netflix stock data from 2009 till today\n",
    "4. Print the head of the dataframe and the first and last date to verify the download of the data."
   ]
  },
  {
   "cell_type": "code",
   "execution_count": null,
   "metadata": {
    "pycharm": {
     "name": "#%%\n"
    }
   },
   "outputs": [],
   "source": []
  },
  {
   "cell_type": "code",
   "execution_count": 5,
   "metadata": {
    "pycharm": {
     "name": "#%%\n"
    }
   },
   "outputs": [
    {
     "name": "stdout",
     "output_type": "stream",
     "text": [
      "[*********************100%***********************]  1 of 1 completed\n"
     ]
    },
    {
     "data": {
      "text/plain": "                               Open      High       Low     Close  Adj Close  \\\nDate                                                                           \n2009-01-02 00:00:00-05:00  4.217143  4.357143  4.200000  4.267143   4.267143   \n2009-01-05 00:00:00-05:00  4.327143  4.562857  4.302857  4.562857   4.562857   \n2009-01-06 00:00:00-05:00  4.591429  4.750000  4.590000  4.705714   4.705714   \n2009-01-07 00:00:00-05:00  4.715714  4.734286  4.571429  4.672857   4.672857   \n2009-01-08 00:00:00-05:00  4.618571  4.797143  4.485714  4.735714   4.735714   \n\n                             Volume  \nDate                                 \n2009-01-02 00:00:00-05:00   6605200  \n2009-01-05 00:00:00-05:00  13044500  \n2009-01-06 00:00:00-05:00  12065900  \n2009-01-07 00:00:00-05:00  10133900  \n2009-01-08 00:00:00-05:00   8175300  ",
      "text/html": "<div>\n<style scoped>\n    .dataframe tbody tr th:only-of-type {\n        vertical-align: middle;\n    }\n\n    .dataframe tbody tr th {\n        vertical-align: top;\n    }\n\n    .dataframe thead th {\n        text-align: right;\n    }\n</style>\n<table border=\"1\" class=\"dataframe\">\n  <thead>\n    <tr style=\"text-align: right;\">\n      <th></th>\n      <th>Open</th>\n      <th>High</th>\n      <th>Low</th>\n      <th>Close</th>\n      <th>Adj Close</th>\n      <th>Volume</th>\n    </tr>\n    <tr>\n      <th>Date</th>\n      <th></th>\n      <th></th>\n      <th></th>\n      <th></th>\n      <th></th>\n      <th></th>\n    </tr>\n  </thead>\n  <tbody>\n    <tr>\n      <th>2009-01-02 00:00:00-05:00</th>\n      <td>4.217143</td>\n      <td>4.357143</td>\n      <td>4.200000</td>\n      <td>4.267143</td>\n      <td>4.267143</td>\n      <td>6605200</td>\n    </tr>\n    <tr>\n      <th>2009-01-05 00:00:00-05:00</th>\n      <td>4.327143</td>\n      <td>4.562857</td>\n      <td>4.302857</td>\n      <td>4.562857</td>\n      <td>4.562857</td>\n      <td>13044500</td>\n    </tr>\n    <tr>\n      <th>2009-01-06 00:00:00-05:00</th>\n      <td>4.591429</td>\n      <td>4.750000</td>\n      <td>4.590000</td>\n      <td>4.705714</td>\n      <td>4.705714</td>\n      <td>12065900</td>\n    </tr>\n    <tr>\n      <th>2009-01-07 00:00:00-05:00</th>\n      <td>4.715714</td>\n      <td>4.734286</td>\n      <td>4.571429</td>\n      <td>4.672857</td>\n      <td>4.672857</td>\n      <td>10133900</td>\n    </tr>\n    <tr>\n      <th>2009-01-08 00:00:00-05:00</th>\n      <td>4.618571</td>\n      <td>4.797143</td>\n      <td>4.485714</td>\n      <td>4.735714</td>\n      <td>4.735714</td>\n      <td>8175300</td>\n    </tr>\n  </tbody>\n</table>\n</div>"
     },
     "metadata": {},
     "output_type": "display_data"
    },
    {
     "name": "stdout",
     "output_type": "stream",
     "text": [
      "2009-01-02 00:00:00-05:00\n",
      "2023-01-23 00:00:00-05:00\n"
     ]
    }
   ],
   "source": [
    "# solution output - don't run this cell or the output will be lost"
   ]
  },
  {
   "cell_type": "markdown",
   "metadata": {
    "pycharm": {
     "name": "#%% md\n"
    }
   },
   "source": [
    "## Calculating daily returns"
   ]
  },
  {
   "cell_type": "markdown",
   "metadata": {
    "pycharm": {
     "name": "#%% md\n"
    }
   },
   "source": [
    "In the next step, you are going to calculate daily, monthly and annual returns based for the Netflix stock. Returns tell you how much money an investor would have made over a particular period of time by giving either the absolute or percentual change of the price from one day/month/year to another."
   ]
  },
  {
   "cell_type": "markdown",
   "metadata": {
    "pycharm": {
     "name": "#%% md\n"
    }
   },
   "source": [
    "In the example below, we will use the Amazon stock data which we download from yahoo finance with pandas-datatreader. To calculate the daily return, that is, the percentual change from one day to another, we can use the `.pct_change()` method. We apply this method to the **Adj Close** column and assign the result to a new column called **daily_ret**."
   ]
  },
  {
   "cell_type": "code",
   "execution_count": null,
   "metadata": {
    "pycharm": {
     "name": "#%%\n",
     "is_executing": true
    }
   },
   "outputs": [],
   "source": [
    "amzn = yf.download('AMZN', start='1997-05-15')\n",
    "\n",
    "amzn['daily_ret'] = amzn['Adj Close'].pct_change()"
   ]
  },
  {
   "cell_type": "markdown",
   "metadata": {
    "pycharm": {
     "name": "#%% md\n"
    }
   },
   "source": [
    "As you can see, the new column **daily_ret** has been added to the dataframe. The values indicate the percentual change from one day to another. \n",
    "\n",
    "The second value in the **daily_ret** column represents the percentual change from the first to the second value in the **Adj Close** column."
   ]
  },
  {
   "cell_type": "code",
   "execution_count": null,
   "metadata": {
    "pycharm": {
     "name": "#%%\n",
     "is_executing": true
    }
   },
   "outputs": [],
   "source": [
    "amzn.head()"
   ]
  },
  {
   "cell_type": "markdown",
   "metadata": {
    "pycharm": {
     "name": "#%% md\n"
    }
   },
   "source": [
    "### Task 7: Daily Netflix returns\n",
    "\n",
    "Add a column to the netflix dataframe on the daily returns."
   ]
  },
  {
   "cell_type": "code",
   "execution_count": null,
   "metadata": {
    "pycharm": {
     "name": "#%%\n"
    }
   },
   "outputs": [],
   "source": []
  },
  {
   "cell_type": "code",
   "execution_count": 6,
   "metadata": {
    "pycharm": {
     "name": "#%%\n"
    }
   },
   "outputs": [
    {
     "data": {
      "text/plain": "Date\n2009-01-02 00:00:00-05:00         NaN\n2009-01-05 00:00:00-05:00    0.069300\n2009-01-06 00:00:00-05:00    0.031309\n2009-01-07 00:00:00-05:00   -0.006982\n2009-01-08 00:00:00-05:00    0.013452\n                               ...   \n2023-01-17 00:00:00-05:00   -0.019831\n2023-01-18 00:00:00-05:00    0.000337\n2023-01-19 00:00:00-05:00   -0.032329\n2023-01-20 00:00:00-05:00    0.084616\n2023-01-23 00:00:00-05:00    0.052847\nName: daily_ret, Length: 3538, dtype: float64"
     },
     "execution_count": 6,
     "metadata": {},
     "output_type": "execute_result"
    }
   ],
   "source": [
    "# solution output; don't run this cell or the output will be lost"
   ]
  },
  {
   "cell_type": "markdown",
   "metadata": {
    "pycharm": {
     "name": "#%% md\n"
    }
   },
   "source": [
    "&nbsp;\n",
    "\n",
    "&nbsp;\n",
    "\n",
    "\n",
    "## Calculating annual and monthly returns"
   ]
  },
  {
   "cell_type": "markdown",
   "metadata": {
    "pycharm": {
     "name": "#%% md\n"
    }
   },
   "source": [
    "As you can see in the **daily_ret** column, we cannot calculate the product of these values to yield the return over several days, months or years, since these values are all close to zero."
   ]
  },
  {
   "cell_type": "code",
   "execution_count": null,
   "metadata": {
    "pycharm": {
     "name": "#%%\n",
     "is_executing": true
    }
   },
   "outputs": [],
   "source": [
    "amzn.head()"
   ]
  },
  {
   "cell_type": "code",
   "execution_count": null,
   "metadata": {
    "pycharm": {
     "name": "#%%\n",
     "is_executing": true
    }
   },
   "outputs": [],
   "source": [
    "amzn_ret_1 = amzn['daily_ret'][:11] + 1\n",
    "amzn_ret_1.prod() - 1"
   ]
  },
  {
   "cell_type": "markdown",
   "metadata": {
    "pycharm": {
     "name": "#%% md\n"
    }
   },
   "source": [
    "Trying to calculate the return rate for May 1997 using the `.prod()` method on the **daily_ret** values return a number very close to 0."
   ]
  },
  {
   "cell_type": "code",
   "execution_count": null,
   "metadata": {
    "pycharm": {
     "name": "#%%\n",
     "is_executing": true
    }
   },
   "outputs": [],
   "source": [
    "amzn['daily_ret'][:11].prod()"
   ]
  },
  {
   "cell_type": "markdown",
   "metadata": {
    "pycharm": {
     "name": "#%% md\n"
    }
   },
   "source": [
    "We first have to add 1 to all values, calculate the product and then substract 1. \n",
    "\n",
    "We start by creating a new column **daily_ret_1**."
   ]
  },
  {
   "cell_type": "code",
   "execution_count": null,
   "metadata": {
    "scrolled": true,
    "pycharm": {
     "name": "#%%\n",
     "is_executing": true
    }
   },
   "outputs": [],
   "source": [
    "amzn['daily_ret_1'] = amzn['daily_ret'] + 1\n",
    "amzn.head()"
   ]
  },
  {
   "cell_type": "markdown",
   "metadata": {
    "pycharm": {
     "name": "#%% md\n"
    }
   },
   "source": [
    "If we now calculate the return rate for May 1997, we can see that the price decreased by 23.40 %"
   ]
  },
  {
   "cell_type": "code",
   "execution_count": null,
   "metadata": {
    "pycharm": {
     "name": "#%%\n",
     "is_executing": true
    }
   },
   "outputs": [],
   "source": [
    "ret_05_97 = amzn['daily_ret_1'][:11].prod()\n",
    "ret_05_97 -= 1\n",
    "ret_05_97"
   ]
  },
  {
   "cell_type": "markdown",
   "metadata": {
    "pycharm": {
     "name": "#%% md\n"
    }
   },
   "source": [
    "To calculate *annual* returns, we will have to calculate the product of the **daily_ret_1** column separately for each year. In order to achieve this, we have to group the **amzn** dataframe based on the dates into separate dataframes for each year. This can be done with the `.resample()` method, which is called on the dataframe. In the example below, we split the dataframe into smaller dataframes for each year. The `'A'` stands for annual."
   ]
  },
  {
   "cell_type": "code",
   "execution_count": null,
   "metadata": {
    "pycharm": {
     "name": "#%%\n",
     "is_executing": true
    }
   },
   "outputs": [],
   "source": [
    "# split amzn dataframe into smaller dataframes for each year\n",
    "amzn.resample('1A')"
   ]
  },
  {
   "cell_type": "code",
   "execution_count": null,
   "metadata": {
    "pycharm": {
     "name": "#%%\n",
     "is_executing": true
    }
   },
   "outputs": [],
   "source": [
    "# split amzn dataframe into smaller dataframes for each two years\n",
    "amzn.resample('2A')"
   ]
  },
  {
   "cell_type": "markdown",
   "metadata": {
    "pycharm": {
     "name": "#%% md\n"
    }
   },
   "source": [
    "In order to calculate the product of the daily_ret_1 column values for each year, we add `['daily_ret_1].prod()`.\n",
    "\n",
    "This code will resample the complete **amzn** dataframe into subsets for each year, select the values from the daily_ret_1 column and aggregate these values by calculating their product.\n",
    "\n",
    "As you can see below, this will generate the annual returns."
   ]
  },
  {
   "cell_type": "code",
   "execution_count": null,
   "metadata": {
    "pycharm": {
     "name": "#%%\n",
     "is_executing": true
    }
   },
   "outputs": [],
   "source": [
    "# calculating the annual returns using .resample() and .prod()\n",
    "annual_returns = amzn.resample('1A')['daily_ret_1'].prod()\n",
    "annual_returns"
   ]
  },
  {
   "cell_type": "markdown",
   "metadata": {
    "pycharm": {
     "name": "#%% md\n"
    }
   },
   "source": [
    "In order to represent the annual returns as a signed rate, just as we represent the daily returns, we have to subtract one from them."
   ]
  },
  {
   "cell_type": "code",
   "execution_count": null,
   "metadata": {
    "pycharm": {
     "name": "#%%\n",
     "is_executing": true
    }
   },
   "outputs": [],
   "source": [
    "annual_returns = annual_returns - 1\n",
    "annual_returns"
   ]
  },
  {
   "cell_type": "markdown",
   "metadata": {
    "pycharm": {
     "name": "#%% md\n"
    }
   },
   "source": [
    "We can adapt the code from before to calculate the monthly return rate by changing the value for the resample method from `'1A'` to `'1M'`. \n",
    "\n",
    "We resample the **amzn** dataframe to smaller subsets for each month, select the values from the daily_ret_1 column and calculate the product.\n",
    "\n",
    "The values have to be reduced by 1 to reflect the signed rate."
   ]
  },
  {
   "cell_type": "code",
   "execution_count": null,
   "metadata": {
    "pycharm": {
     "name": "#%%\n",
     "is_executing": true
    }
   },
   "outputs": [],
   "source": [
    "# split amzn dataframe into smaller dataframes for each year\n",
    "monthly_returns = amzn.resample('1M')['daily_ret_1'].prod()\n",
    "monthly_returns -= 1\n",
    "monthly_returns"
   ]
  },
  {
   "cell_type": "markdown",
   "metadata": {
    "pycharm": {
     "name": "#%% md\n"
    }
   },
   "source": [
    "&nbsp;\n",
    "\n",
    "### Task 8: Calculating annual and monthly return rates\n",
    "\n",
    "It is now your turn to carry out the same steps to calculate the annual and monthly return rates for Netflix.\n",
    "\n",
    "1. Create a new column **daily_ret_1** to add 1 to the daily returns\n",
    "2. Calculate the monthly returns.  \n",
    "3. Calculate the annual returns."
   ]
  },
  {
   "cell_type": "code",
   "execution_count": null,
   "metadata": {
    "pycharm": {
     "name": "#%%\n"
    }
   },
   "outputs": [],
   "source": []
  },
  {
   "cell_type": "code",
   "execution_count": 7,
   "metadata": {
    "pycharm": {
     "name": "#%%\n"
    }
   },
   "outputs": [
    {
     "data": {
      "text/plain": "Date\n2009-01-31 00:00:00-05:00    0.209910\n2009-02-28 00:00:00-05:00    0.002767\n2009-03-31 00:00:00-04:00    0.184327\n2009-04-30 00:00:00-04:00    0.055685\n2009-05-31 00:00:00-04:00   -0.129993\n                               ...   \n2022-09-30 00:00:00-04:00    0.053140\n2022-10-31 00:00:00-04:00    0.239721\n2022-11-30 00:00:00-05:00    0.046766\n2022-12-31 00:00:00-05:00   -0.034857\n2023-01-31 00:00:00-05:00    0.222870\nFreq: M, Name: daily_ret_1, Length: 169, dtype: float64"
     },
     "metadata": {},
     "output_type": "display_data"
    },
    {
     "data": {
      "text/plain": "Date\n2009-12-31 00:00:00-05:00    0.844325\n2010-12-31 00:00:00-05:00    2.189327\n2011-12-31 00:00:00-05:00   -0.605635\n2012-12-31 00:00:00-05:00    0.336268\n2013-12-31 00:00:00-05:00    2.976347\n2014-12-31 00:00:00-05:00   -0.072141\n2015-12-31 00:00:00-05:00    1.343784\n2016-12-31 00:00:00-05:00    0.082357\n2017-12-31 00:00:00-05:00    0.550565\n2018-12-31 00:00:00-05:00    0.394353\n2019-12-31 00:00:00-05:00    0.208884\n2020-12-31 00:00:00-05:00    0.671138\n2021-12-31 00:00:00-05:00    0.114124\n2022-12-31 00:00:00-05:00   -0.510524\n2023-12-31 00:00:00-05:00    0.222870\nFreq: A-DEC, Name: daily_ret_1, dtype: float64"
     },
     "metadata": {},
     "output_type": "display_data"
    }
   ],
   "source": [
    "# solution output; don't run this cell or the output will be lost"
   ]
  },
  {
   "cell_type": "markdown",
   "metadata": {
    "pycharm": {
     "name": "#%% md\n"
    }
   },
   "source": [
    "&nbsp;\n",
    "\n",
    "## Calculating new columns for the monthly return rates"
   ]
  },
  {
   "cell_type": "markdown",
   "metadata": {
    "pycharm": {
     "name": "#%% md\n"
    }
   },
   "source": [
    "The way we have calculate the monthly return rates, we wouldn't be able to add them to the dataframe with the daily returns since we aggregated the data to only one return value per month, whereas the original dataframe has a row for each day.\n",
    "\n",
    "The `.transform()` method enables us to replicate the monthly returns for as many times as there are days in each different month.\n",
    "\n",
    "Let us start with the annual returns and compare the output when using `.prod()` and `.transform('prod')`."
   ]
  },
  {
   "cell_type": "code",
   "execution_count": null,
   "metadata": {
    "pycharm": {
     "name": "#%%\n",
     "is_executing": true
    }
   },
   "outputs": [],
   "source": [
    "amzn.resample('1A')['daily_ret_1'].prod()"
   ]
  },
  {
   "cell_type": "code",
   "execution_count": null,
   "metadata": {
    "scrolled": true,
    "pycharm": {
     "name": "#%%\n",
     "is_executing": true
    }
   },
   "outputs": [],
   "source": [
    "amzn.resample('1A')['daily_ret_1'].transform('prod')"
   ]
  },
  {
   "cell_type": "markdown",
   "metadata": {
    "pycharm": {
     "name": "#%% md\n"
    }
   },
   "source": [
    "While using `.prod()` returns the return rate for each year only once, `.transform('prod')` replicates the annual return rate for as many days as there are in each year.\n",
    "\n",
    "The last row shows us that there are 6465 values when using `.transform('prod')`. This is exactly as many rows the original dataframe has."
   ]
  },
  {
   "cell_type": "code",
   "execution_count": null,
   "metadata": {
    "pycharm": {
     "name": "#%%\n",
     "is_executing": true
    }
   },
   "outputs": [],
   "source": [
    "len(amzn)"
   ]
  },
  {
   "cell_type": "markdown",
   "metadata": {
    "pycharm": {
     "name": "#%% md\n"
    }
   },
   "source": [
    "By using `.transform('prod')` the monthly return rates will directly map onto the rows in the original dataframe, and we can use these values to create a new column for the monthly returns."
   ]
  },
  {
   "cell_type": "code",
   "execution_count": 32,
   "metadata": {
    "pycharm": {
     "name": "#%%\n"
    }
   },
   "outputs": [],
   "source": [
    "amzn['monthly_ret'] = amzn.resample('1M')['daily_ret_1'].transform('prod')"
   ]
  },
  {
   "cell_type": "markdown",
   "metadata": {
    "pycharm": {
     "name": "#%% md\n"
    }
   },
   "source": [
    "Below you can see how this has created a new column **monthly_ret** with the product of the values from the **daily_ret_1** column for each month. "
   ]
  },
  {
   "cell_type": "markdown",
   "metadata": {
    "pycharm": {
     "name": "#%% md\n"
    }
   },
   "source": [
    "<img src=\"https://www.dropbox.com/s/kzd1fgatnu8neki/groupby_transform.png?raw=1\">"
   ]
  },
  {
   "cell_type": "markdown",
   "metadata": {
    "pycharm": {
     "name": "#%% md\n"
    }
   },
   "source": [
    "To change these values from a multiplier to a signed rate, similar to the **daily_ret** column, we have to subtract 1."
   ]
  },
  {
   "cell_type": "code",
   "execution_count": 33,
   "metadata": {
    "pycharm": {
     "name": "#%%\n"
    }
   },
   "outputs": [],
   "source": [
    "amzn['monthly_ret'] = amzn['monthly_ret'] - 1"
   ]
  },
  {
   "cell_type": "markdown",
   "metadata": {
    "pycharm": {
     "name": "#%% md\n"
    }
   },
   "source": [
    "We can see now that in the first month of Amazon entering the stock market, the stock lost 23.43%. In the second month, the stock gained 2.80%."
   ]
  },
  {
   "cell_type": "code",
   "execution_count": null,
   "metadata": {
    "pycharm": {
     "name": "#%%\n",
     "is_executing": true
    }
   },
   "outputs": [],
   "source": [
    "amzn.head(32)"
   ]
  },
  {
   "cell_type": "markdown",
   "metadata": {
    "pycharm": {
     "name": "#%% md\n"
    }
   },
   "source": [
    "### Task 9: Monthly Netflix returns\n",
    "\n",
    "\n",
    "1. Create a new column **monthly_ret** for the monthly returns.\n",
    "2. Subtract 1 from the **monthly_ret** column to reflect the values as a signed rate."
   ]
  },
  {
   "cell_type": "code",
   "execution_count": null,
   "metadata": {
    "pycharm": {
     "name": "#%%\n"
    }
   },
   "outputs": [],
   "source": []
  },
  {
   "cell_type": "code",
   "execution_count": 11,
   "metadata": {
    "pycharm": {
     "name": "#%%\n"
    }
   },
   "outputs": [
    {
     "name": "stdout",
     "output_type": "stream",
     "text": [
      "[*********************100%***********************]  1 of 1 completed\n"
     ]
    },
    {
     "data": {
      "text/plain": "Date\n2009-01-31 00:00:00-05:00    0.209910\n2009-02-28 00:00:00-05:00    0.002767\n2009-03-31 00:00:00-04:00    0.184327\n2009-04-30 00:00:00-04:00    0.055685\n2009-05-31 00:00:00-04:00   -0.129993\n                               ...   \n2022-09-30 00:00:00-04:00    0.053140\n2022-10-31 00:00:00-04:00    0.239721\n2022-11-30 00:00:00-05:00    0.046766\n2022-12-31 00:00:00-05:00   -0.034857\n2023-01-31 00:00:00-05:00    0.223820\nFreq: M, Name: daily_ret_1, Length: 169, dtype: float64"
     },
     "metadata": {},
     "output_type": "display_data"
    },
    {
     "data": {
      "text/plain": "Date\n2009-01-02 00:00:00-05:00    0.20991\n2009-01-05 00:00:00-05:00    0.20991\n2009-01-06 00:00:00-05:00    0.20991\n2009-01-07 00:00:00-05:00    0.20991\n2009-01-08 00:00:00-05:00    0.20991\n                              ...   \n2023-01-17 00:00:00-05:00    0.22382\n2023-01-18 00:00:00-05:00    0.22382\n2023-01-19 00:00:00-05:00    0.22382\n2023-01-20 00:00:00-05:00    0.22382\n2023-01-23 00:00:00-05:00    0.22382\nName: monthly_ret, Length: 3538, dtype: float64"
     },
     "execution_count": 11,
     "metadata": {},
     "output_type": "execute_result"
    }
   ],
   "source": [
    "# solution output; don't run this cell or the output will be lost"
   ]
  }
 ],
 "metadata": {
  "interpreter": {
   "hash": "54e72497fd64358f52832107e3cdfaf9f975ee2964d8f26ed128ba56fc24de73"
  },
  "kernelspec": {
   "display_name": "Python 3",
   "language": "python",
   "name": "python3"
  },
  "language_info": {
   "codemirror_mode": {
    "name": "ipython",
    "version": 3
   },
   "file_extension": ".py",
   "mimetype": "text/x-python",
   "name": "python",
   "nbconvert_exporter": "python",
   "pygments_lexer": "ipython3",
   "version": "3.8.8"
  }
 },
 "nbformat": 4,
 "nbformat_minor": 2
}